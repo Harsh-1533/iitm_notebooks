{
 "cells": [
  {
   "cell_type": "markdown",
   "id": "4bf992a2",
   "metadata": {},
   "source": [
    "# Designing a Flexible List (Linked List) and Operations\n",
    "\n",
    "## **1. Linked List Basics**\n",
    "### **Structure**\n",
    "- A **linked list** is a sequence of **nodes**:\n",
    "  - Each node contains:\n",
    "    - `value`: Stores the data.\n",
    "    - `next`: Pointer to the next node (`None` if it's the last node).\n",
    "- **Empty List**: Represented by a node with `value = None` and `next = None`.\n",
    "\n",
    "### **Node Class (Python Implementation)**"
   ]
  },
  {
   "cell_type": "code",
   "execution_count": null,
   "id": "b1497004",
   "metadata": {},
   "outputs": [],
   "source": [
    "class Node:\n",
    "    def __init__(self, value=None):\n",
    "        self.value = value  # Node's value\n",
    "        self.next = None    # Pointer to next node\n",
    "\n",
    "    def is_empty(self):\n",
    "        return self.value is None  # Checks if the list is empty"
   ]
  },
  {
   "cell_type": "markdown",
   "id": "59a7c3d9",
   "metadata": {},
   "source": [
    "---"
   ]
  },
  {
   "cell_type": "markdown",
   "id": "2309ce1e",
   "metadata": {},
   "source": [
    "## **2. Key Operations**\n",
    "\n",
    "**Appending to the End (`append`)**\n",
    "- Recursive Approach:\n",
    "    1. Empty List: Update `value` from `None` to `V`.\n",
    "    2. Last Node: Create a new node with `V` and link it.\n",
    "    3. Middle Node: Recursively call `append` on `next`.\n",
    "- Iterative Approach:\n",
    "    - Traverse to the last node (where `next = None`).\n",
    "    - Link the last node to a new node with `V`.\n",
    "\n",
    "**Inserting at the Beginning (`insert`)**\n",
    "- Challenge: Cannot directly repoint the head (due to Python's pass-by-object-reference).\n",
    "- Solution:\n",
    "    1. Swap the `value` of the new node and the head node.\n",
    "    2. Update pointers:\n",
    "        - New node’s `next` points to the old head’s `next`.\n",
    "        - Head’s `next` points to the new node.\n",
    "\n",
    "**Deleting a Value (`delete`)**\n",
    "- Goal: Remove the first occurrence of `V`.\n",
    "- Approach:\n",
    "    1. Recursive:\n",
    "    - If `current.value == V`:\n",
    "        - Singleton Node: Set `value = None`.\n",
    "        - Non-last Node: Copy `next.value` to `current.value` and bypass `next`.\n",
    "    - Else: Recursively call `delete` on `next`.\n",
    "    2. Iterative (Exercise):\n",
    "    - Traverse while checking `next.value` to bypass the target node.\n",
    "\n",
    "---\n",
    "\n",
    "## **3. Key Insights**\n",
    "\n",
    "| Operation          | Time Complexity         | Notes                      |  \n",
    "|------------------|----------------------------|---------------------------|  \n",
    "| **Notes**         | $O(n)$                  | Must traverse entire list to reach the end.                     |  \n",
    "| **Insert (Head)**  | $O(1)$        | Requires value swap + pointer updates.    |  \n",
    "| **Delete**| $O(n)$   | Worst-case traversal to find V.  |\n",
    "\n",
    "### Edge Cases\n",
    "- Empty List: Handle by checking `self.value is None`.\n",
    "- Singleton List: Special logic for deletion/insertion.\n",
    "- Head Manipulation: Requires value swaps (cannot repoint head directly in Python).\n",
    "\n",
    "--- \n",
    "\n",
    "## **4. Python vs. Linked Lists**\n",
    "- Python’s `list`:\n",
    "    - Implemented as a dynamic array (not a linked list).\n",
    "    - Supports $O(1)$ access but $O(n)$ insertions/deletions in the middle.\n",
    "- Linked List Trade-offs:\n",
    "    - ✅ Flexible size, O(1) insert/delete at head.\n",
    "    - ❌ O(n) access/search (no random access).\n",
    "\n",
    "---\n",
    "\n",
    "## 5. Example Code\n",
    "\n",
    "**Append (Iterative)**"
   ]
  },
  {
   "cell_type": "code",
   "execution_count": 1,
   "id": "51da7367",
   "metadata": {},
   "outputs": [],
   "source": [
    "def append(self, V):\n",
    "    if self.is_empty():\n",
    "        self.value = V\n",
    "    else:\n",
    "        temp = self\n",
    "        while temp.next is not None:\n",
    "            temp = temp.next\n",
    "        temp.next = Node(V)"
   ]
  },
  {
   "cell_type": "markdown",
   "id": "e39b7357",
   "metadata": {},
   "source": [
    "**Insert (Head)**"
   ]
  },
  {
   "cell_type": "code",
   "execution_count": 2,
   "id": "3b2e8096",
   "metadata": {},
   "outputs": [],
   "source": [
    "def insert(self, V):\n",
    "    if self.is_empty():\n",
    "        self.value = V\n",
    "    else:\n",
    "        new_node = Node(V)\n",
    "        # Swap values and update pointers\n",
    "        self.value, new_node.value = new_node.value, self.value\n",
    "        new_node.next = self.next\n",
    "        self.next = new_node"
   ]
  },
  {
   "cell_type": "markdown",
   "id": "995311dc",
   "metadata": {},
   "source": [
    "**Delete (Recursive)**"
   ]
  },
  {
   "cell_type": "code",
   "execution_count": 3,
   "id": "fbf90912",
   "metadata": {},
   "outputs": [],
   "source": [
    "def delete(self, V):\n",
    "    if not self.is_empty():\n",
    "        if self.value == V:\n",
    "            if self.next is None:\n",
    "                self.value = None  # Singleton list\n",
    "            else:\n",
    "                self.value = self.next.value  # Copy value\n",
    "                self.next = self.next.next    # Bypass next node\n",
    "        elif self.next is not None:\n",
    "            self.next.delete(V)  # Recurse"
   ]
  },
  {
   "cell_type": "markdown",
   "id": "909a32ac",
   "metadata": {},
   "source": [
    "---\n",
    "\n",
    "## 6. Key Takeaways\n",
    "\n",
    "1. Linked lists excel at dynamic insertions/deletions but suffer slow access.\n",
    "2. Head operations require value swaps (Python limitation).\n",
    "3. Python’s list is optimized for different use cases (contiguous memory).\n",
    "4. Recursion vs. Iteration: Both work, but iterative methods often save stack space.\n",
    "\n",
    "---\n",
    "---\n",
    "\n",
    "# Summary\n",
    "- Use a linked list of nodes to implement a flexible list\n",
    "- Append is easy\n",
    "- Insert requires some care, cannot change where the head points to\n",
    "- When deleting, look one step ahead to bypass the node to be deleted\n"
   ]
  }
 ],
 "metadata": {
  "kernelspec": {
   "display_name": "Python 3",
   "language": "python",
   "name": "python3"
  },
  "language_info": {
   "codemirror_mode": {
    "name": "ipython",
    "version": 3
   },
   "file_extension": ".py",
   "mimetype": "text/x-python",
   "name": "python",
   "nbconvert_exporter": "python",
   "pygments_lexer": "ipython3",
   "version": "3.12.6"
  }
 },
 "nbformat": 4,
 "nbformat_minor": 5
}
