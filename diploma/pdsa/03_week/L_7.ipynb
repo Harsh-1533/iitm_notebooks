{
 "cells": [
  {
   "cell_type": "markdown",
   "id": "10763eb5",
   "metadata": {},
   "source": [
    "# In-Depth Notes: Python Lists vs. NumPy Arrays\n",
    "## **1. Fundamental Concepts**\n",
    "### **1.1 Python Lists**\n",
    "- **Definition**: Dynamic, mutable sequences that can hold heterogeneous data types.\n",
    "- **Underlying Implementation**:\n",
    "    - **Dynamic Array**: Contiguous memory block that resizes when capacity is exceeded.\n",
    "    - **Growth Policy**: When full, allocates a new array (typically double the size) and copies elements (amortized $O(1)$ for `append`).\n",
    "    - **Memory Overhead**: Stores pointers to objects (flexible but memory-inefficient for numerical data).\n",
    "### **1.2 NumPy Arrays**\n",
    "- **Definition**: Fixed-type, homogeneous multi-dimensional arrays optimized for numerical operations.\n",
    "- **Underlying Implementation**:\n",
    "    - **Contiguous Memory**: Stores raw data (not pointers), enabling vectorized operations.\n",
    "    - **Fixed Size**: No dynamic resizing; operations like `reshape` return new views.\n",
    "    - **Data Types**: Explicit (`int32`, `float64`, etc.), reducing memory usage and speeding up computations.\n",
    "## **2. Performance and Operations**\n",
    "### **2.1 Time Complexity**\n",
    "\n",
    "| Operation          | Python List          | NumPy Array                      |  \n",
    "|------------------|----------------------------|---------------------------|  \n",
    "| **Append**         | $O(1)$ (amortized)                    | N/A (fixed size)                     |  \n",
    "| **Insert/Delete**  | *O(n)*        | *O(n)* (shifting)    |  \n",
    "| **Random Access**| *O(1)*  | *O(1)* |  \n",
    "| **Matrix Multiply**       | Manual loops $O(n^3)$             | `np.dot` ($O(n^3)$ but optimized)                |  \n",
    "\n",
    "### **2.2 Memory Efficiency**\n",
    "\n",
    "- **Python Lists**:\n",
    "    - High overhead (stores pointers + metadata).\n",
    "    - Example: A list of 1M integers uses ~4MB for data + ~8MB for pointers (64-bit system).\n",
    "- **NumPy Arrays**:\n",
    "    - Compact storage (e.g., `np.int32` uses 4 bytes per element).\n",
    "    - Example: 1M integers in NumPy use ~4MB total.\n",
    "\n",
    "---\n",
    "\n",
    "## **3. Practical Examples**\n",
    "### **3.1 Python Lists**\n",
    "**Initialization**"
   ]
  },
  {
   "cell_type": "code",
   "execution_count": null,
   "id": "a653acc4",
   "metadata": {},
   "outputs": [],
   "source": [
    "# Safe matrix initialization (avoid aliasing)\n",
    "matrix = [[0 for _ in range(3)] for _ in range(3)]  # 3x3 zero matrix"
   ]
  },
  {
   "cell_type": "markdown",
   "id": "01e259de",
   "metadata": {},
   "source": [
    "**Pitfalls**"
   ]
  },
  {
   "cell_type": "code",
   "execution_count": null,
   "id": "bf4c7982",
   "metadata": {},
   "outputs": [],
   "source": [
    "# Aliasing issue: All rows point to the same list!\n",
    "bad_matrix = [[0]*3]*3\n",
    "bad_matrix[0][1] = 1  # Affects all rows!"
   ]
  },
  {
   "cell_type": "markdown",
   "id": "3772d2c3",
   "metadata": {},
   "source": [
    "### **3.2 NumPy Arrays**\n",
    "**Key Features**"
   ]
  },
  {
   "cell_type": "code",
   "execution_count": null,
   "id": "15a24962",
   "metadata": {},
   "outputs": [],
   "source": [
    "import numpy as np\n",
    "\n",
    "# Create arrays\n",
    "arr = np.array([1, 2, 3])          # 1D array\n",
    "matrix = np.zeros((3, 3))          # 3x3 zero matrix\n",
    "identity = np.eye(3)               # 3x3 identity matrix\n",
    "\n",
    "# Vectorized operations\n",
    "squared = arr ** 2                 # [1, 4, 9]\n",
    "sum_rows = matrix.sum(axis=1)      # Sum along rows\n",
    "\n",
    "# Matrix multiplication\n",
    "A = np.array([[1, 2], [3, 4]])\n",
    "B = np.array([[5, 6], [7, 8]])\n",
    "C = A @ B                          # [[19, 22], [43, 50]]"
   ]
  },
  {
   "cell_type": "markdown",
   "id": "f868b24b",
   "metadata": {},
   "source": [
    "---\n",
    "\n",
    "## **4. Advanced Topics**\n",
    "### **4.1 Memory Layout**\n",
    "- **Python Lists**:\n",
    "    - Non-contiguous (elements scattered in memory).\n",
    "    - Slower iteration due to pointer chasing.\n",
    "- **NumPy Arrays**:\n",
    "    - Contiguous or strided memory (enables SIMD optimizations).\n",
    "    - Supports views (arr[1:3] shares memory with original).\n",
    "### **4.2 Broadcasting**\n",
    "- NumPy automatically aligns shapes for operations:"
   ]
  },
  {
   "cell_type": "code",
   "execution_count": null,
   "id": "ec44e9dd",
   "metadata": {},
   "outputs": [],
   "source": [
    "arr = np.array([1, 2, 3])\n",
    "result = arr + 5  # [6, 7, 8] (scalar broadcasted)"
   ]
  },
  {
   "cell_type": "markdown",
   "id": "84855ff5",
   "metadata": {},
   "source": [
    "### **4.3 Use Cases**\n",
    "\n",
    "| Scenario          | Preferred Choice          | Reason                      |  \n",
    "|------------------|----------------------------|---------------------------|  \n",
    "| **Dynamic data collection**         | Python List                    | Flexible size, mixed types                     |  \n",
    "| **Numerical computations**  | NumPy Array        | Speed, memory efficiency    |  \n",
    "| **Graph adjacency matrices**| NumPy Array   | Efficient storage/operations  |  \n",
    "| **JSON-like nested data**       | Python List             | Native support for nesting                |  \n",
    "\n",
    "## **5. Key Takeaways**\n",
    "\n",
    "1. **Python Lists**:\n",
    "    - Best for dynamic, heterogeneous data.\n",
    "    - Avoid for large-scale numerical work (slow, memory-heavy).\n",
    "2. **NumPy Arrays**:\n",
    "    - Ideal for fixed-size numerical data (graphs, matrices).\n",
    "    - Leverage vectorization for performance.\n",
    "3. Performance Trade-offs:\n",
    "    - Use lists when frequent resizing is needed.\n",
    "    - Use NumPy for math-heavy tasks (e.g., linear algebra).\n",
    "\n",
    "---\n",
    "\n",
    "## **6. Further Exploration**\n",
    "- NumPy Docs: numpy.org/doc\n",
    "- Python Time Complexity: wiki.python.org\n",
    "- Memory Analysis:"
   ]
  },
  {
   "cell_type": "code",
   "execution_count": null,
   "id": "80b0059e",
   "metadata": {},
   "outputs": [],
   "source": [
    "import sys\n",
    "sys.getsizeof([0]*1000)  # List memory usage\n",
    "np.arange(1000).nbytes   # NumPy array memory"
   ]
  },
  {
   "cell_type": "markdown",
   "id": "81d31a6c",
   "metadata": {},
   "source": [
    "# Summary\n",
    "- Python lists are not implemented as flexible linked structures\n",
    "- Instead, allocate an array, and double space as needed\n",
    "- Append is cheap, insert is expensive\n",
    "- Arrays can be represented as multidimensional lists, but need to be careful about mutability, aliasing\n",
    "- Numpy arrays are easier to use"
   ]
  }
 ],
 "metadata": {
  "kernelspec": {
   "display_name": "Python 3",
   "language": "python",
   "name": "python3"
  },
  "language_info": {
   "name": "python",
   "version": "3.12.6"
  }
 },
 "nbformat": 4,
 "nbformat_minor": 5
}
