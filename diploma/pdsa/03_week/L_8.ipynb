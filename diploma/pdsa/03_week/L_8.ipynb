{
 "cells": [
  {
   "cell_type": "markdown",
   "id": "24ed1f7c",
   "metadata": {},
   "source": [
    "## **🔹 What Is a Hash Table?**\n",
    "- A hash table (also known as a hash map) is a data structure that maps keys to values using a technique called hashing.\n",
    "\n",
    "### **✅ Key Concepts:**\n",
    "- **Keys**: Unique identifiers (e.g., names, IDs)\n",
    "- **Values**: Data associated with keys (e.g., age, marks)\n",
    "- **Hash Function**: Converts the key into an index for storing the value in an array\n",
    "- **Collision**: When two keys map to the same index\n",
    "- **Collision Resolution**: Strategy to handle such conflicts (e.g., linear probing, chaining)\n",
    "\n",
    "---\n",
    "\n",
    "## **🔹 What Is a Hash Function?**\n",
    "- A hash function takes a key and returns an index in the array (table).\n",
    "\n",
    "### **Example:**\n",
    "- If the table size is `10`, and we use `h(k) = k % 10`, then:\n",
    "    - `h(23) = 3`\n",
    "    - `h(33) = 3` ← collision (same index)\n",
    "- A good hash function:\n",
    "    - Is fast\n",
    "    - Distributes keys evenly across the table\n",
    "    - Minimizes collisions\n",
    "\n",
    "---\n",
    "\n",
    "## **🔹 Implementation of Hash Table in Python**\n",
    "- In Python, the `dict` (dictionary) is a built-in implementation of a hash table.\n",
    "\n",
    "### **🔸 Creating a Dictionary:**\n",
    "\n",
    "```python\n",
    "student = {\n",
    "    \"name\": \"Alice\",\n",
    "    \"age\": 20,\n",
    "    \"grade\": \"A\"\n",
    "}\n",
    "```\n",
    "\n",
    "- Here:\n",
    "    - \"name\" is the key\n",
    "    - \"Alice\" is the value\n",
    "    - Python internally computes hash(\"name\") to place it in the hash table.\n",
    "\n",
    "--- \n",
    "\n",
    "## **🔹 How Python dict Works Internally:**\n",
    "1. Key is hashed: `hash(\"name\")` returns a large integer\n",
    "2. Index is calculated: `index = hash(key) % table_size`\n",
    "3. Value is stored at that index\n",
    "> Python uses open addressing and dynamic resizing internally.\n",
    "\n",
    "---\n",
    "\n",
    "## **🔹 Example: Custom Hash Table (Basic)**\n",
    "- Let’s simulate a simple hash table (fixed size, linear probing):"
   ]
  },
  {
   "cell_type": "code",
   "execution_count": 2,
   "id": "3725526d",
   "metadata": {},
   "outputs": [],
   "source": [
    "class HashTable:\n",
    "    def __init__(self, size):\n",
    "        self.size = size\n",
    "        self.table = [None] * size\n",
    "\n",
    "    def hash_func(self, key):\n",
    "        return key % self.size\n",
    "\n",
    "    def insert(self, key, value):\n",
    "        idx = self.hash_func(key)\n",
    "        while self.table[idx] is not None:\n",
    "            idx = (idx + 1) % self.size  # Linear probing\n",
    "        self.table[idx] = (key, value)\n",
    "\n",
    "    def display(self):\n",
    "        for i, item in enumerate(self.table):\n",
    "            print(f\"Index {i}: {item}\")"
   ]
  },
  {
   "cell_type": "code",
   "execution_count": 3,
   "id": "42a646f6",
   "metadata": {},
   "outputs": [
    {
     "name": "stdout",
     "output_type": "stream",
     "text": [
      "Index 0: None\n",
      "Index 1: None\n",
      "Index 2: None\n",
      "Index 3: (23, 'Alice')\n",
      "Index 4: (33, 'Bob')\n",
      "Index 5: None\n",
      "Index 6: None\n",
      "Index 7: None\n",
      "Index 8: None\n",
      "Index 9: None\n"
     ]
    }
   ],
   "source": [
    "ht = HashTable(10)\n",
    "ht.insert(23, \"Alice\")\n",
    "ht.insert(33, \"Bob\")  # Collision with 23\n",
    "ht.display()\n"
   ]
  },
  {
   "cell_type": "markdown",
   "id": "e71bfb67",
   "metadata": {},
   "source": [
    "## 🔹 Dictionary Operations in Python\n",
    "\n",
    "| Operation | Time Complexity (Avg) | Example               |\n",
    "| --------- | --------------------- | --------------------- |\n",
    "| Insert    | O(1)                  | `d['a'] = 10`         |\n",
    "| Lookup    | O(1)                  | `print(d['a'])`       |\n",
    "| Delete    | O(1)                  | `del d['a']`          |\n",
    "| Resize    | O(n) (internally)     | Happens automatically |"
   ]
  },
  {
   "cell_type": "markdown",
   "id": "aeeda4b6",
   "metadata": {},
   "source": [
    "---\n",
    "\n",
    "## **🔹 Summary**\n",
    "- A hash table stores key-value pairs using hashing.\n",
    "- A hash function converts keys to valid table indices.\n",
    "- Python’s `dict` is a powerful and efficient built-in hash table.\n",
    "- It handles collisions, resizing, and hashing under the hood.\n",
    "\n",
    "---\n",
    "\n",
    "## **Lecture Summary**\n",
    "\n",
    "- A dictionary is implemented as a hash table\n",
    "    - An array plus a hash function\n",
    "- Creating a good hash function is important (and hard!)\n",
    "- Need a strategy to deal with collisions\n",
    "    - Open addressing/ closed hashing - probe for free space in the array\n",
    "    - Open hashing - each slot in the hash table points to a list of key-value pairs\n",
    "    - Many heuristics/optimizations possible for dea"
   ]
  }
 ],
 "metadata": {
  "kernelspec": {
   "display_name": "Python 3",
   "language": "python",
   "name": "python3"
  },
  "language_info": {
   "codemirror_mode": {
    "name": "ipython",
    "version": 3
   },
   "file_extension": ".py",
   "mimetype": "text/x-python",
   "name": "python",
   "nbconvert_exporter": "python",
   "pygments_lexer": "ipython3",
   "version": "3.12.6"
  }
 },
 "nbformat": 4,
 "nbformat_minor": 5
}
