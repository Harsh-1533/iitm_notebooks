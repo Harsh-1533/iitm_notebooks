{
 "cells": [
  {
   "cell_type": "markdown",
   "id": "ec42b724",
   "metadata": {},
   "source": [
    "# **Concluding remarks on sorting algorithms**"
   ]
  },
  {
   "cell_type": "markdown",
   "id": "367ff85d",
   "metadata": {},
   "source": [
    "## Stable sorting\n",
    "- Often list values are tuples\n",
    "    - Rows from a table, with multiple columns / attributes\n",
    "    - A list of students, each student entry has a roll number, name, marks, ...\n",
    "- Suppose students have already been sorted by roll number\n",
    "- If we now sort by name, will all students with the same name remain in sorted order with respect to roll number?\n",
    "- Stability in sorting is crucial in many applications\n",
    "- Sorting on column $B$ should not disturb sorting on column $A$\n",
    "- The Quicksort implementation we described is not stable\n",
    "    - Swapping values while partitioning can disturb existing sorted order\n",
    "- Merge sort is stable if we merge carefully\n",
    "    - Do not allow element from the right to overtake elements on the left\n",
    "    - While merging, prefer the left list while breaking ties\n",
    "\n",
    "## Other Criteria\n",
    "- Minimizing data movement\n",
    "    - Imagine each element is a heavy carton\n",
    "    - Reduce the effort of moving values around\n",
    "\n",
    "## Best sorting algorithm?\n",
    "- Quicksort is often the algorithms of choice, despite $O(n^2)$ worst case\n",
    "- Merge sort is typically used for \"external\" sorting\n",
    "    - Database tables that are too large to store in memory all at once\n",
    "    - Retrieve in parts from the disk and write back\n",
    "- Other $O(n \\log n)$ algorithms exist - heapsort\n",
    "- Sometimes hybrid strategies are used\n",
    "    - Use divide and conquer for large $n$\n",
    "    - Switch to insertion sort when $n$ becomes small (e.g. $n < 16$)"
   ]
  },
  {
   "cell_type": "markdown",
   "id": "67ae0cd6",
   "metadata": {},
   "source": []
  }
 ],
 "metadata": {
  "language_info": {
   "name": "python"
  }
 },
 "nbformat": 4,
 "nbformat_minor": 5
}
