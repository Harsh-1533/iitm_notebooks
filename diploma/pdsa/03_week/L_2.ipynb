{
 "cells": [
  {
   "cell_type": "markdown",
   "id": "8dd8afec",
   "metadata": {},
   "source": [
    "## 🔍 Quick Sort Analysis\n",
    "\n",
    "### ✅ Overview\n",
    "Quick Sort is a **Divide and Conquer** algorithm. It works by:\n",
    "1. Choosing a **pivot**.\n",
    "2. Partitioning the array so that:\n",
    "   - Elements less than pivot go to the left.\n",
    "   - Elements greater than pivot go to the right.\n",
    "3. Recursively applying the same logic to the left and right subarrays.\n",
    "\n",
    "---\n",
    "\n",
    "### ⏱️ Time Complexity\n",
    "\n",
    "| Case        | Time Complexity     | Explanation                                                                 |\n",
    "|-------------|---------------------|-----------------------------------------------------------------------------|\n",
    "| **Best**    | $$O(n \\log n)$$     | Happens when pivot divides array into two nearly equal halves.             |\n",
    "| **Average** | $$O(n \\log n)$$     | Over many runs with random input/pivot, this is the expected time.         |\n",
    "| **Worst**   | $$O(n^2)$$          | Happens when pivot is the smallest or largest element every time.          |\n",
    "\n",
    "---\n",
    "\n",
    "### 💡 How to Beat Worst Case\n",
    "- Use **randomized pivot selection**.\n",
    "- Use **median-of-three** strategy (median of first, middle, and last elements).\n",
    "\n",
    "---\n",
    "\n",
    "### 🧠 Space Complexity\n",
    "- **Auxiliary space**: $$O(\\log n)$$ on average due to recursion stack.\n",
    "- **In-place**: Yes, it doesn’t require extra memory like Merge Sort.\n",
    "\n",
    "---\n",
    "\n",
    "### ⚙️ Stability\n",
    "- **Not stable** by default (equal elements may not retain original order).\n",
    "\n",
    "---\n",
    "\n",
    "### ⚡ Why Quick Sort is Used in Practice\n",
    "- Faster than Merge Sort in many real-world cases because:\n",
    "  - Better cache performance.\n",
    "  - No need for extra memory.\n",
    "  - Tail recursion optimizations.\n",
    "\n",
    "---\n",
    "\n",
    "### 📌 Important Notes\n",
    "- Works well on average but **not ideal when worst-case must be avoided**.\n",
    "- Most modern languages use **hybrid algorithms**, like:\n",
    "  - **Timsort** (Python) → Merge + Insertion Sort.\n",
    "  - **Introsort** (C++) → Quick Sort + Heap Sort fallback."
   ]
  },
  {
   "cell_type": "markdown",
   "id": "8fe481f3",
   "metadata": {},
   "source": []
  }
 ],
 "metadata": {
  "language_info": {
   "name": "python"
  }
 },
 "nbformat": 4,
 "nbformat_minor": 5
}
