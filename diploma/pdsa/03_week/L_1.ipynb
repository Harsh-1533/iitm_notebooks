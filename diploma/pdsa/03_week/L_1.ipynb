{
 "cells": [
  {
   "cell_type": "markdown",
   "id": "f4df1f72",
   "metadata": {},
   "source": [
    "# 🔥 Quick Sort – In-Depth (PDSA Style)"
   ]
  },
  {
   "cell_type": "markdown",
   "id": "7f3100d2",
   "metadata": {},
   "source": [
    "### 🔹 What is Quick Sort?\n",
    "- Quick Sort is a Divide and Conquer algorithm that sorts an array by:\n",
    "    1. Dividing the array using a pivot.\n",
    "    2. Placing the pivot in its correct position such that:\n",
    "        - All elements to the left are less than the pivot.\n",
    "        - All elements to the right are greater than the pivot.\n",
    "    3. Recursively applying the same logic to left and right subarrays.\n",
    "\n",
    "--- \n",
    "\n",
    "### 🔹 Quick Sort Steps\n",
    "\n",
    "Let's say we sort array `arr = [8, 3, 1, 7, 0, 10, 2].`\n",
    "\n",
    "**Step 1: Choose a Pivot**\n",
    "- Common choices: first element, last element, random element, or median.\n",
    "- Let's choose last element as pivot → `pivot = 2`\n",
    "\n",
    "**Step 2: Partition**\n",
    "- Rearrange elements so that smaller elements come before pivot and larger ones after.\n",
    "- After partition: `arr = [1, 0, 2, 7, 10, 3, 8]` (pivot `2` is at correct position)\n",
    "\n",
    "**Step 3: Recurse**\n",
    "- Now recursively apply the same steps to `[1, 0]` and `[7, 10, 3, 8]`.\n",
    "\n",
    "---\n",
    "\n",
    "### 🔹 Partitioning Logic (Lomuto)\n",
    "\n",
    "Lomuto’s method (simpler, uses last element as pivot):\n"
   ]
  },
  {
   "cell_type": "code",
   "execution_count": null,
   "id": "d33fe998",
   "metadata": {},
   "outputs": [],
   "source": [
    "def partition(arr, low, high):\n",
    "    pivot = arr[high]  # choose last element as pivot\n",
    "    i = low - 1  # index of smaller element\n",
    "\n",
    "    for j in range(low, high):\n",
    "        if arr[j] < pivot:\n",
    "            i += 1\n",
    "            arr[i], arr[j] = arr[j], arr[i]\n",
    "\n",
    "    arr[i+1], arr[high] = arr[high], arr[i+1]  # put pivot in correct place\n",
    "    return i + 1  # return pivot index"
   ]
  },
  {
   "cell_type": "markdown",
   "id": "ed904fd4",
   "metadata": {},
   "source": [
    "---\n",
    "\n",
    "### 🔹 Quick Sort Code"
   ]
  },
  {
   "cell_type": "code",
   "execution_count": 1,
   "id": "b38e4b94",
   "metadata": {},
   "outputs": [],
   "source": [
    "def quicksort(arr, low, high):\n",
    "    if low < high:\n",
    "        pi = partition(arr, low, high)\n",
    "        quicksort(arr, low, pi - 1)  # left subarray\n",
    "        quicksort(arr, pi + 1, high)  # right subarray"
   ]
  },
  {
   "cell_type": "markdown",
   "id": "ac238c6d",
   "metadata": {},
   "source": [
    "---\n",
    "\n",
    "### 🔹 Time Complexity\n",
    "\n",
    "| Case       | Time       | Why?                                    |\n",
    "| ---------- | ---------- | --------------------------------------- |\n",
    "| Best Case  | O(n log n) | Pivot always divides array evenly       |\n",
    "| Average    | O(n log n) | Random pivot → roughly balanced splits  |\n",
    "| Worst Case | O(n²)      | Array already sorted + bad pivot choice |\n",
    "\n",
    "**Worst case happens when smallest/largest element is always picked as pivot.**\n",
    "\n",
    "---\n",
    "\n",
    "### 🔹 Space Complexity\n",
    "- $O(log n)$ in best/average case due to recursion stack.\n",
    "- $O(n)$ in worst case (for unbalanced recursion tree).\n",
    "\n",
    "---\n",
    "\n",
    "### 🔹 Stability\n",
    "- Quick Sort is NOT stable.\n",
    "    - **Because equal elements may get reordered during swaps.**\n",
    "\n",
    "--- \n",
    "\n",
    "### 🔹 In-Place?\n",
    "- ✅ Yes — it sorts the array using constant extra space.\n",
    "\n",
    "---\n",
    "\n",
    "### 🔹 When to Use Quick Sort?\n",
    "- ✅ Great for large datasets in memory\n",
    "- ✅ Better than Merge Sort in average case due to lower constants\n",
    "- ❌ Avoid when stability is needed\n",
    "- ❌ Avoid when worst case is likely (like nearly sorted arrays)\n",
    "\n",
    "---\n",
    "\n",
    "### 🔹 Variants\n",
    "- Hoare’s Partition Scheme: uses two pointers; faster in practice.\n",
    "- Randomized Quick Sort: randomly picks pivot to reduce chance of worst-case.\n",
    "- Tail Call Optimization: reduces recursion stack.\n",
    "\n",
    "---\n",
    "\n",
    "# ✅ Summary (Markdown Cell Ready)\n",
    "\n",
    "### ✅ Quick Sort Summary\n",
    "\n",
    "- **Algorithm Type**: Divide and Conquer\n",
    "- **Worst Case**: O(n²)\n",
    "- **Average & Best Case**: O(n log n)\n",
    "- **Space**: O(log n) auxiliary\n",
    "- **Stability**: Not Stable\n",
    "- **In-Place**: Yes\n",
    "- **Partitioning**: Lomuto (simple), Hoare (faster)\n",
    "- **Use Case**: When average performance matters more than worst-case"
   ]
  },
  {
   "cell_type": "markdown",
   "id": "11bfdfe2",
   "metadata": {},
   "source": [
    "---\n",
    "\n",
    "---"
   ]
  },
  {
   "cell_type": "markdown",
   "id": "bbe69fec",
   "metadata": {},
   "source": [
    "## 📌 Code Explanation\n",
    "This is a Python implementation of Quick Sort using a custom 3-variable partitioning method."
   ]
  },
  {
   "cell_type": "code",
   "execution_count": null,
   "id": "23c140cf",
   "metadata": {},
   "outputs": [],
   "source": [
    "def quicksort(L, l, r):  # Sort subarray L[l:r]\n",
    "    if (r - l <= 1):  # Base case: size 0 or 1, already sorted\n",
    "        return L\n",
    "\n",
    "    # Set pivot to L[l], initialize lower and upper pointers\n",
    "    (pivot, lower, upper) = (L[l], l + 1, l + 1)\n",
    "\n",
    "    # Partition the array\n",
    "    for i in range(l + 1, r):\n",
    "        if L[i] > pivot:\n",
    "            # Bigger than pivot → extend upper segment\n",
    "            upper = upper + 1\n",
    "        else:\n",
    "            # Smaller or equal → swap with lower segment\n",
    "            (L[i], L[lower]) = (L[lower], L[i])\n",
    "            # Move both lower and upper forward\n",
    "            (lower, upper) = (lower + 1, upper + 1)\n",
    "\n",
    "    # Place pivot in its correct position\n",
    "    (L[l], L[lower - 1]) = (L[lower - 1], L[l])\n",
    "\n",
    "    # Recurse on left and right subarrays\n",
    "    lower = lower - 1\n",
    "    quicksort(L, l, lower)\n",
    "    quicksort(L, lower + 1, upper)\n",
    "\n",
    "    return L"
   ]
  },
  {
   "cell_type": "markdown",
   "id": "17d64e76",
   "metadata": {},
   "source": [
    "### 🧠 What's Happening?\n",
    "- Partitioning Concept:\n",
    "    - You maintain two \"segments\":\n",
    "        - Lower Segment: elements ≤ pivot.\n",
    "        - Upper Segment: elements > pivot.\n",
    "- Key Variables:\n",
    "    - `pivot = L[l]`: First element as pivot.\n",
    "    - `lower`: Index where next ≤ pivot element should go.\n",
    "    - `upper`: Next position where > pivot can be placed (if needed).\n",
    "- Steps:\n",
    "    1. Traverse array from `l+1` to `r`.\n",
    "    2. If `L[i] > pivot`: move forward upper.\n",
    "    3. If `L[i] <= pivot`: swap with `L[lower]` and move both `lower` and `upper`.\n",
    "    4. Finally, swap the pivot `L[l]` with `L[lower-1]` so it’s in its correct sorted place.\n",
    "    5. Recursively quicksort left `L[l:lower]` and right `L[lower+1:upper]` parts.\n",
    "\n",
    "---"
   ]
  },
  {
   "cell_type": "markdown",
   "id": "77e615de",
   "metadata": {},
   "source": [
    "### 🟢 Sample Use"
   ]
  },
  {
   "cell_type": "code",
   "execution_count": 3,
   "id": "2e260524",
   "metadata": {},
   "outputs": [
    {
     "name": "stdout",
     "output_type": "stream",
     "text": [
      "[0, 1, 2, 3, 7, 8, 10]\n"
     ]
    }
   ],
   "source": [
    "arr = [8, 3, 1, 7, 0, 10, 2]\n",
    "sorted_arr = quicksort(arr, 0, len(arr))\n",
    "print(sorted_arr)"
   ]
  },
  {
   "cell_type": "markdown",
   "id": "686513b9",
   "metadata": {},
   "source": [
    "# Summary\n",
    "- The worst case complexity of quicksort is $$O(n^2)$$\n",
    "- However, the average case is $$O(n \\log n)$$\n",
    "- Randomly choosing the pivot is a good strategy to beat worst case inputs\n",
    "- Quicksort works in-place and can be implemented iteratively\n",
    "- Very fast in practice, and often used for built-in sorting functions  \n",
    "  - Good example of a situation when the worst case upper bound is pessimistic"
   ]
  }
 ],
 "metadata": {
  "kernelspec": {
   "display_name": "Python 3",
   "language": "python",
   "name": "python3"
  },
  "language_info": {
   "codemirror_mode": {
    "name": "ipython",
    "version": 3
   },
   "file_extension": ".py",
   "mimetype": "text/x-python",
   "name": "python",
   "nbconvert_exporter": "python",
   "pygments_lexer": "ipython3",
   "version": "3.12.6"
  }
 },
 "nbformat": 4,
 "nbformat_minor": 5
}
