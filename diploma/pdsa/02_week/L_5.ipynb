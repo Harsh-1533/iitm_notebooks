{
 "cells": [
  {
   "cell_type": "markdown",
   "id": "e74daa2d",
   "metadata": {},
   "source": [
    "# Selection Sort"
   ]
  },
  {
   "cell_type": "markdown",
   "id": "fd297dc0",
   "metadata": {},
   "source": [
    "## ✅ What is Selection Sort?\n",
    "- Selection Sort is a simple comparison-based sorting algorithm. It works by repeatedly selecting the smallest (or largest) element from the unsorted portion of the list and swapping it with the first unsorted element.\n",
    "\n",
    "### 🔧 How Selection Sort Works — Step by Step:\n",
    "Assume you have an array:\n",
    "`[29, 10, 14, 37, 14]`\n",
    "\n",
    "1. First pass:\n",
    "    - Find the smallest element in the whole array → `10`\n",
    "    - Swap it with the first element → `[10, 29, 14, 37, 14]`\n",
    "2. Second pass:\n",
    "    - Find the smallest from index 1 to end → `14`\n",
    "    - Swap with index 1 → `[10, 14, 29, 37, 14]`\n",
    "3. Third pass:\n",
    "    - Smallest from index 2 to end → `14`\n",
    "    - Swap with index 2 → `[10, 14, 14, 37, 29]`\n",
    "4. Fourth pass:\n",
    "    - Smallest from index 3 to end → `29`\n",
    "    - Swap with index 3 → `[10, 14, 14, 29, 37]`\n",
    "\n",
    "Now the array is sorted."
   ]
  },
  {
   "cell_type": "markdown",
   "id": "4bd074af",
   "metadata": {},
   "source": [
    "## 🧠 Selection Sort Algorithm"
   ]
  },
  {
   "cell_type": "code",
   "execution_count": 2,
   "id": "54532c2e",
   "metadata": {},
   "outputs": [
    {
     "name": "stdout",
     "output_type": "stream",
     "text": [
      "Time taken by SelectionSort: 0.0283 seconds\n"
     ]
    }
   ],
   "source": [
    "import time\n",
    "\n",
    "def SelectionSort(L):\n",
    "    n = len(L)\n",
    "    if n < 1:\n",
    "        return L\n",
    "\n",
    "    for i in range(n):\n",
    "        mpos = i  # Assume L[i] is the minimum\n",
    "        for j in range(i + 1, n):\n",
    "            if L[j] < L[mpos]:\n",
    "                mpos = j\n",
    "        # Swap L[i] with the minimum found in L[i:]\n",
    "        L[i], L[mpos] = L[mpos], L[i]\n",
    "    return L\n",
    "\n",
    "# Test the function with a timer\n",
    "import random\n",
    "arr = [random.randint(1, 10000) for _ in range(1000)]  # Try with 1000 elements\n",
    "\n",
    "start_time = time.time()\n",
    "sorted_arr = SelectionSort(arr)\n",
    "end_time = time.time()\n",
    "\n",
    "print(f\"Time taken by SelectionSort: {end_time - start_time:.4f} seconds\")"
   ]
  },
  {
   "cell_type": "markdown",
   "id": "9d9b22ac",
   "metadata": {},
   "source": [
    "## 📊 Time and Space Complexity Analysis\n",
    "\n",
    "| Case        | Comparisons | Swaps | Time Complexity | Space Complexity |\n",
    "| ----------- | ----------- | ----- | --------------- | ---------------- |\n",
    "| **Best**    | n(n-1)/2    | n-1   | **O(n²)**       | **O(1)**         |\n",
    "| **Average** | n(n-1)/2    | n-1   | **O(n²)**       | **O(1)**         |\n",
    "| **Worst**   | n(n-1)/2    | n-1   | **O(n²)**       | **O(1)**         |\n",
    "\n",
    "- Why O(n²)? Two nested loops:\n",
    "    - Outer loop runs n times\n",
    "    - Inner loop runs up to n-1 times in total\n",
    "- In-place sort → doesn't use extra memory\n",
    "\n",
    "#### ✅ Pros:\n",
    "- Easy to understand and implement\n",
    "- Does not require extra space\n",
    "- Performs well on small arrays\n",
    "#### ❌ Cons:\n",
    "- Very slow on large data (always O(n²))\n",
    "- Does more comparisons than necessary\n",
    "\n",
    "### ⚖️ Comparison with Other Sorts\n",
    "\n",
    "| Algorithm          | Time Complexity (Worst)  | In-place? | Stable? |\n",
    "| ------------------ | ------------------------ | --------- | ------- |\n",
    "| **Selection Sort** | O(n²)                    | Yes       | No      |\n",
    "| **Bubble Sort**    | O(n²)                    | Yes       | Yes     |\n",
    "| **Insertion Sort** | O(n²)                    | Yes       | Yes     |\n",
    "| **Merge Sort**     | O(n log n)               | No        | Yes     |\n",
    "| **Quick Sort**     | O(n²) average O(n log n) | Yes       | No      |\n"
   ]
  },
  {
   "cell_type": "markdown",
   "id": "fb29afea",
   "metadata": {},
   "source": [
    "# NOTE"
   ]
  },
  {
   "cell_type": "markdown",
   "id": "1e24e8ad",
   "metadata": {},
   "source": [
    "## 📘 Selection Sort: Key Formulas & Properties\n",
    "\n",
    "---\n",
    "\n",
    "### 📌 1. Number of Comparisons\n",
    "\n",
    "For an array of size `n`:\n",
    "\n",
    "$$\n",
    "\\text{Comparisons} = \\frac{n(n - 1)}{2}\n",
    "$$\n",
    "\n",
    "✅ This is always the same, no matter the input order.\n",
    "\n",
    "---\n",
    "\n",
    "### 📌 2. Number of Swaps\n",
    "\n",
    "- **Worst Case Swaps**:  \n",
    "  $$\n",
    "  \\text{Swaps}_{\\text{worst}} = n - 1\n",
    "  $$\n",
    "\n",
    "- **Best Case Swaps (already sorted)**:  \n",
    "  $$\n",
    "  \\text{Swaps}_{\\text{best}} = n - 1\n",
    "  $$\n",
    "\n",
    "*Note: Selection Sort swaps even if the element is in the correct position (unless optimized).*\n",
    "\n",
    "---\n",
    "\n",
    "### 📌 3. Time Complexity\n",
    "\n",
    "| Case         | Time Complexity |\n",
    "|--------------|-----------------|\n",
    "| Best Case    | $$O(n^2)$$      |\n",
    "| Average Case | $$O(n^2)$$      |\n",
    "| Worst Case   | $$O(n^2)$$      |\n",
    "\n",
    "Selection Sort always does the same number of comparisons regardless of order.\n",
    "\n",
    "---\n",
    "\n",
    "### 📌 4. Space Complexity\n",
    "\n",
    "$$\n",
    "\\text{Space Complexity} = O(1)\n",
    "$$\n",
    "\n",
    "✅ In-place sorting (no extra space needed)\n",
    "\n",
    "---\n",
    "\n",
    "### 📌 5. Summary Table\n",
    "\n",
    "| Metric              | Formula / Value               |\n",
    "|---------------------|-------------------------------|\n",
    "| Comparisons         | $$\\frac{n(n - 1)}{2}$$         |\n",
    "| Swaps (worst/best)  | $$n - 1$$                      |\n",
    "| Time Complexity     | $$O(n^2)$$                     |\n",
    "| Space Complexity    | $$O(1)$$                       |\n",
    "| Stable?             | ❌ Not stable (unless modified) |"
   ]
  },
  {
   "cell_type": "markdown",
   "id": "367246dd",
   "metadata": {},
   "source": [
    "## 📌 When is Selection Sort Not Stable?\n",
    "- Selection Sort is not stable when it swaps an element with a non-adjacent smaller element that has the same value as another earlier element.\n",
    "This breaks the original relative order of equal elements.\n",
    "\n",
    "### ❗ Rule:\n",
    "- If Selection Sort swaps an element forward past another identical element, their relative order gets reversed — this causes instability.\n",
    "\n",
    "### 🧪 Example:\n",
    "Let’s take this input:\n",
    "`[4a, 4b, 3, 5, 6]`\n",
    "- `4a` and `4b` are two different `4`s, but we tag them (`a`, `b`) to track their original positions.\n",
    "\n",
    "#### 🔁 First Pass:\n",
    "- Minimum is `3` at index 2\n",
    "- Swap `3` with `4a`\n",
    "- Array becomes:\n",
    "`[3, 4b, 4a, 5, 6]`\n",
    "- Now `4a` comes after `4b`, even though it was before originally.\n",
    "- ➡️ Relative order broken → Not stable\n",
    "\n",
    "## ✅ In contrast — When Selection Sort is stable:\n",
    "- If no such swap happens that moves an equal element before its original peer, stability is preserved. For example:\n",
    "- `[1, 2, 3, 4, 5]`\n",
    "- There are no duplicates, so no chance to break relative order → Stable in effect (but not by design)."
   ]
  },
  {
   "cell_type": "markdown",
   "id": "517e9a73",
   "metadata": {},
   "source": [
    "\n",
    "---\n",
    "\n",
    "## \"When duplicates exist and one is at index 0, then Selection Sort is unstable.\"\n",
    "\n",
    "This can be true, but it's not always the case."
   ]
  },
  {
   "cell_type": "markdown",
   "id": "34121549",
   "metadata": {},
   "source": [
    "### ✔️ You are partially right — Selection Sort is more likely to be unstable if a duplicate is at index 0, but it's not guaranteed. It depends on what gets swapped and when."
   ]
  },
  {
   "cell_type": "markdown",
   "id": "6b30ea57",
   "metadata": {},
   "source": [
    "## 1. It is an in-place algorithm.\n",
    "- True.\n",
    "- Selection Sort sorts the array by repeatedly selecting the minimum element from the unsorted part and swapping it with the first unsorted element. It only uses a constant amount of extra memory (a few variables for indices and temp storage during swaps).\n",
    "So, it is in-place."
   ]
  }
 ],
 "metadata": {
  "kernelspec": {
   "display_name": "Python 3",
   "language": "python",
   "name": "python3"
  },
  "language_info": {
   "codemirror_mode": {
    "name": "ipython",
    "version": 3
   },
   "file_extension": ".py",
   "mimetype": "text/x-python",
   "name": "python",
   "nbconvert_exporter": "python",
   "pygments_lexer": "ipython3",
   "version": "3.12.6"
  }
 },
 "nbformat": 4,
 "nbformat_minor": 5
}
