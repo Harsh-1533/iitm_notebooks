{
 "cells": [
  {
   "cell_type": "markdown",
   "id": "094a0a38",
   "metadata": {},
   "source": [
    "## 🔍 Search Problem\n",
    "\n",
    "- **Is value `v` present in list `l`?**\n",
    "- Naive solution scans the list linearly.\n",
    "- Input size `n` is the length of the list.\n",
    "- **Worst case:** when `v` is **not** present in `l`.\n",
    "- **Worst case complexity:** `O(n)`\n",
    "\n",
    "### 🧠 Python Code (Naive Search)"
   ]
  },
  {
   "cell_type": "code",
   "execution_count": 1,
   "id": "ea265309",
   "metadata": {},
   "outputs": [
    {
     "name": "stdout",
     "output_type": "stream",
     "text": [
      "Value found: True\n",
      "Time taken: 0.0211 seconds\n"
     ]
    }
   ],
   "source": [
    "import random\n",
    "import time\n",
    "\n",
    "# Generate a list of 1,000,000 random integers between 1 and 10,000,000\n",
    "random_list = [random.randint(1, 10_000_000) for _ in range(1_000_000)]\n",
    "\n",
    "# Define the naive search function\n",
    "def naivesearch(v, l):\n",
    "    for x in l:\n",
    "        if v == x:\n",
    "            return True\n",
    "    return False\n",
    "\n",
    "# Choose a value to search (you can pick one that exists or doesn't)\n",
    "search_value = random_list[-1]  # Exists in list\n",
    "# search_value = -1  # Does not exist\n",
    "\n",
    "# Measure execution time\n",
    "start = time.time()\n",
    "found = naivesearch(search_value, random_list)\n",
    "end = time.time()\n",
    "\n",
    "print(f\"Value found: {found}\")\n",
    "print(f\"Time taken: {end - start:.4f} seconds\")"
   ]
  },
  {
   "cell_type": "markdown",
   "id": "a0a8427f",
   "metadata": {},
   "source": [
    "## 🔎 Binary Search on a Sorted List\n",
    "\n",
    "If the list is sorted in ascending order, we can use Binary Search for much faster results.  \n",
    "It works by repeatedly dividing the search interval in half:\n",
    "\n",
    "- Compare value `v` with the middle element of the list `l`\n",
    "- If `v == midpoint`, return True\n",
    "- If `v < midpoint`, search the left half\n",
    "- If `v > midpoint`, search the right half\n",
    "- Stop when interval becomes empty\n",
    "\n",
    "⏱ Let's time this approach using the same 1,000,000-element list used in naive search."
   ]
  },
  {
   "cell_type": "code",
   "execution_count": null,
   "id": "e569fe27",
   "metadata": {},
   "outputs": [
    {
     "name": "stdout",
     "output_type": "stream",
     "text": [
      "Value found: True\n",
      "Time taken: 0.0366 seconds\n"
     ]
    }
   ],
   "source": [
    "import random\n",
    "import time\n",
    "\n",
    "# Generate a sorted list of 1,000,000 integers\n",
    "sorted_list = sorted([random.randint(1, 10_000_000) for _ in range(1_000_000)])\n",
    "\n",
    "# Binary search function (recursive version)\n",
    "def binarysearch(v, l):\n",
    "    if l == []:\n",
    "        return False\n",
    "    \n",
    "    m = len(l) // 2\n",
    "    if v == l[m]:\n",
    "        return True\n",
    "    if v < l[m]:\n",
    "        return binarysearch(v, l[:m])\n",
    "    else:\n",
    "        return binarysearch(v, l[m+1:])\n",
    "\n",
    "# Choose a value to search\n",
    "search_value = sorted_list[-1]  # Exists\n",
    "# search_value = -1  # Does not exist\n",
    "\n",
    "# Measure execution time\n",
    "start = time.time()\n",
    "found = binarysearch(search_value, sorted_list)\n",
    "end = time.time()\n",
    "\n",
    "print(f\"Value found: {found}\")\n",
    "print(f\"Time taken: {end - start:.4f} seconds\")"
   ]
  },
  {
   "cell_type": "markdown",
   "id": "c8e468e1",
   "metadata": {},
   "source": [
    "## 🧠 Time Complexity of Binary Search — Recurrence Relation\n",
    "\n",
    "Let \\( T(n) \\) be the time to search a sorted list of length \\( n \\).\n",
    "\n",
    "- If \\( n = 0 \\), we exit immediately:  \n",
    "  $$\n",
    "  T(0) = 1\n",
    "  $$\n",
    "- If \\( n > 0 \\), we reduce the size by half and do a constant amount of work:  \n",
    "  $$\n",
    "  T(n) = T(n // 2) + 1\n",
    "  $$\n",
    "\n",
    "---\n",
    "\n",
    "### 🔁 Recurrence for \\( T(n) \\)\n",
    "\n",
    "- \\( T(0) = 1 \\)\n",
    "- \\( T(n) = T(n // 2) + 1 \\), for \\( n > 0 \\)\n",
    "\n",
    "---\n",
    "\n",
    "### 🔓 Solving by \"Unwinding\"\n",
    "\n",
    "$$\n",
    "\\begin{align*}\n",
    "T(n) &= T(n // 2) + 1 \\\\\n",
    "     &= \\left(T(n // 4) + 1\\right) + 1 \\\\\n",
    "     &= T(n // 2^2) + 1 + 1 \\\\\n",
    "     &\\dots \\\\\n",
    "     &= T(n // 2^k) + \\underbrace{1 + 1 + \\dots + 1}_{k \\text{ times}} \\\\\n",
    "     &= T(1) + k, \\quad \\text{for } k = \\log n \\\\\n",
    "     &= T(0) + 1 + \\log n \\\\\n",
    "     &= 1 + 1 + \\log n = 2 + \\log n\n",
    "\\end{align*}\n",
    "$$\n",
    "\n",
    "✅ Hence, the time complexity of binary search is:\n",
    "\n",
    "$$\n",
    "\\boxed{O(\\log n)}\n",
    "$$"
   ]
  }
 ],
 "metadata": {
  "kernelspec": {
   "display_name": "Python 3",
   "language": "python",
   "name": "python3"
  },
  "language_info": {
   "codemirror_mode": {
    "name": "ipython",
    "version": 3
   },
   "file_extension": ".py",
   "mimetype": "text/x-python",
   "name": "python",
   "nbconvert_exporter": "python",
   "pygments_lexer": "ipython3",
   "version": "3.12.6"
  }
 },
 "nbformat": 4,
 "nbformat_minor": 5
}
