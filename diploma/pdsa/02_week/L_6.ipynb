{
 "cells": [
  {
   "cell_type": "markdown",
   "id": "37791eda",
   "metadata": {},
   "source": [
    "# Insertion sort"
   ]
  },
  {
   "cell_type": "markdown",
   "id": "07f193b9",
   "metadata": {},
   "source": [
    "## ✅ What is Insertion Sort?\n",
    "\n",
    "- Insertion Sort is a simple and intuitive comparison-based sorting algorithm.\n",
    "- It builds the final sorted array one element at a time by inserting each element into its correct position in the sorted part of the array.\n",
    "\n",
    "### 🔧 How Insertion Sort Works — Step by Step:\n",
    "Given an array: `[8, 4, 1, 5, 9, 2]`\n",
    "\n",
    "1. Start from the second element (`4`), compare it with the left (`8`) and insert it before:  \n",
    "   → `[4, 8, 1, 5, 9, 2]`\n",
    "2. Next, insert `1` before `4`:  \n",
    "   → `[1, 4, 8, 5, 9, 2]`\n",
    "3. Insert `5` between `4` and `8`:  \n",
    "   → `[1, 4, 5, 8, 9, 2]`\n",
    "4. Insert `9` after `8`:  \n",
    "   → `[1, 4, 5, 8, 9, 2]`\n",
    "5. Insert `2` between `1` and `4`:  \n",
    "   → `[1, 2, 4, 5, 8, 9]`\n",
    "\n",
    "Now the array is sorted.\n",
    "\n",
    "---\n",
    "\n",
    "## 📊 Time and Space Complexity Analysis\n",
    "\n",
    "| Case        | Time Complexity | Space Complexity | Stable? |\n",
    "|-------------|------------------|------------------|---------|\n",
    "| Best Case   | O(n)             | O(1)             | ✅ Yes  |\n",
    "| Average     | O(n²)            | O(1)             | ✅ Yes  |\n",
    "| Worst Case  | O(n²)            | O(1)             | ✅ Yes  |\n",
    "\n",
    "- Best case occurs when the array is already sorted (only `n-1` comparisons, no shifts).\n",
    "- Worst case occurs when the array is reverse sorted.\n",
    "\n",
    "---\n",
    "\n",
    "## ✅ Pros:\n",
    "- Simple and easy to implement\n",
    "- Efficient for small datasets\n",
    "- Stable sort\n",
    "- Adaptive: performs well on nearly sorted arrays\n",
    "\n",
    "## ❌ Cons:\n",
    "- Inefficient on large datasets (O(n²))\n",
    "- Requires more shifts compared to Selection Sort\n",
    "\n",
    "---\n",
    "\n",
    "## 📘 Summary Formulas\n",
    "\n",
    "- **Comparisons (Worst Case):**  \n",
    "  $$\n",
    "  \\frac{n(n - 1)}{2}\n",
    "  $$\n",
    "\n",
    "- **Shifts (Worst Case):**  \n",
    "  $$\n",
    "  \\frac{n(n - 1)}{2}\n",
    "  $$\n",
    "\n",
    "- **Space Complexity:**  \n",
    "  $$\n",
    "  O(1) \\text{ (in-place)}\n",
    "  $$\n",
    "\n",
    "---\n",
    "\n",
    "## 💡 Use Insertion Sort When:\n",
    "- The dataset is small\n",
    "- The dataset is nearly sorted\n",
    "- Stability is important"
   ]
  },
  {
   "cell_type": "markdown",
   "id": "4e19f9e4",
   "metadata": {},
   "source": [
    "# ✅ Insertion Sort (Iterative Version)"
   ]
  },
  {
   "cell_type": "code",
   "execution_count": 1,
   "id": "fbd188ee",
   "metadata": {},
   "outputs": [
    {
     "name": "stdout",
     "output_type": "stream",
     "text": [
      "[1, 2, 4, 5, 6]\n"
     ]
    }
   ],
   "source": [
    "def InsertionSort(L):\n",
    "    n = len(L)\n",
    "    if n < 1:\n",
    "        return L\n",
    "\n",
    "    for i in range(n):\n",
    "        # Assume L[:i] is sorted\n",
    "        j = i\n",
    "        while j > 0 and L[j] < L[j - 1]:\n",
    "            # Swap L[j] and L[j-1]\n",
    "            L[j], L[j - 1] = L[j - 1], L[j]\n",
    "            j = j - 1  # Move left in sorted part\n",
    "    return L\n",
    "\n",
    "input = [5, 2, 4, 6, 1]\n",
    "print(InsertionSort(input))"
   ]
  },
  {
   "cell_type": "markdown",
   "id": "dd1a6e7a",
   "metadata": {},
   "source": [
    "### 🧠 How It Works (Step-by-Step):\n",
    "- The algorithm treats the left part of the list as sorted.\n",
    "- For every index i, it inserts L[i] into its correct position in the sorted sublist L[:i].\n",
    "- This is done by shifting larger elements one position to the right until the correct spot is found.\n",
    "- Uses swapping to place the current element correctly."
   ]
  },
  {
   "cell_type": "markdown",
   "id": "23c2741f",
   "metadata": {},
   "source": [
    "# ✅ Insertion Sort (Recursive Version)"
   ]
  },
  {
   "cell_type": "code",
   "execution_count": 2,
   "id": "4b58179b",
   "metadata": {},
   "outputs": [
    {
     "name": "stdout",
     "output_type": "stream",
     "text": [
      "[1, 2, 4, 5, 6]\n"
     ]
    }
   ],
   "source": [
    "# Insert element 'v' into sorted list 'L'\n",
    "def Insert(L, v):\n",
    "    n = len(L)\n",
    "    if n == 0:\n",
    "        return [v]\n",
    "    if v >= L[-1]:\n",
    "        return L + [v]\n",
    "    else:\n",
    "        return Insert(L[:-1], v) + [L[-1]]\n",
    "\n",
    "# Recursive insertion sort\n",
    "def ISort(L):\n",
    "    n = len(L)\n",
    "    if n < 1:\n",
    "        return L\n",
    "    return Insert(ISort(L[:-1]), L[-1])\n",
    "\n",
    "input = [5, 2, 4, 6, 1]\n",
    "print(InsertionSort(input))"
   ]
  },
  {
   "cell_type": "markdown",
   "id": "5889f945",
   "metadata": {},
   "source": [
    "## 🧠 How It Works (Recursively):\n",
    "- ISort(L) breaks the list into L[:-1] (all elements except last), sorts it recursively.\n",
    "- Then it inserts the last element L[-1] into the sorted list using Insert(L, v).\n",
    "- Insert recursively finds the correct spot to place v in L."
   ]
  }
 ],
 "metadata": {
  "kernelspec": {
   "display_name": "Python 3",
   "language": "python",
   "name": "python3"
  },
  "language_info": {
   "codemirror_mode": {
    "name": "ipython",
    "version": 3
   },
   "file_extension": ".py",
   "mimetype": "text/x-python",
   "name": "python",
   "nbconvert_exporter": "python",
   "pygments_lexer": "ipython3",
   "version": "3.12.6"
  }
 },
 "nbformat": 4,
 "nbformat_minor": 5
}
