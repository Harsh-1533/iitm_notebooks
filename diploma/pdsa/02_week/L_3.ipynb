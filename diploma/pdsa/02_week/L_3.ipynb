{
 "cells": [
  {
   "cell_type": "markdown",
   "id": "b11dace6",
   "metadata": {},
   "source": [
    "# 📘 Topic: Calculating Complexity  \n",
    "### Subject: PDSA (Problem Solving and Data Structures & Algorithms)\n",
    "\n",
    "---\n",
    "\n",
    "## 🧮 What is Time Complexity?\n",
    "- Time Complexity is a measure of the **amount of time** an algorithm takes to run as a function of the input size `n`.\n",
    "- It helps analyze algorithm efficiency and scalability.\n",
    "- Denoted using **Big-O notation**.\n",
    "\n",
    "---\n",
    "\n",
    "## 🔁 1. Iterative Programs\n",
    "- These use **loops** (for, while) to repeat a task.\n",
    "- Complexity is calculated by **counting the number of times** loops run.\n",
    "\n",
    "### ✅ Key Idea:\n",
    "- Each loop contributes to the total time complexity.\n",
    "- Nested loops multiply their time complexities.\n",
    "\n",
    "---\n",
    "\n",
    "## 🔁 Example 1: Single Loop $(O(n))$"
   ]
  },
  {
   "cell_type": "code",
   "execution_count": null,
   "id": "e92a1cf3",
   "metadata": {},
   "outputs": [],
   "source": [
    "import time\n",
    "\n",
    "def print_items(n):\n",
    "    start = time.time()\n",
    "    for i in range(n):\n",
    "        print(i)\n",
    "    end = time.time()\n",
    "    print(\"Execution Time:\", end - start)\n",
    "\n",
    "print_items(10)"
   ]
  },
  {
   "cell_type": "markdown",
   "id": "231a7aa6",
   "metadata": {},
   "source": [
    "- Outer loop: $n$ times\n",
    "- Inner loop: $n$ times\n",
    "- Total = $n * n = O(n²)$"
   ]
  },
  {
   "cell_type": "markdown",
   "id": "ff032989",
   "metadata": {},
   "source": [
    "## 🔁 Example 2: Nested Loops $(O(n²))$"
   ]
  },
  {
   "cell_type": "code",
   "execution_count": null,
   "id": "e8238270",
   "metadata": {},
   "outputs": [],
   "source": [
    "import time\n",
    "\n",
    "def print_pairs(n):\n",
    "    start = time.time()\n",
    "    for i in range(n):\n",
    "        for j in range(n):\n",
    "            print(i, j)\n",
    "    end = time.time()\n",
    "    print(\"Execution Time:\", end - start)\n",
    "\n",
    "print_pairs(5)"
   ]
  },
  {
   "cell_type": "markdown",
   "id": "2f867d2c",
   "metadata": {},
   "source": [
    "- Outer loop: $n$ times\n",
    "- Inner loop: $n$ times\n",
    "- $Total = n * n = O(n²)$"
   ]
  },
  {
   "cell_type": "markdown",
   "id": "1dccb30f",
   "metadata": {},
   "source": [
    "## 🔁 Example 3: Consecutive Loops (Not Nested) (O(n))"
   ]
  },
  {
   "cell_type": "code",
   "execution_count": null,
   "id": "e7fec34c",
   "metadata": {},
   "outputs": [],
   "source": [
    "import time\n",
    "\n",
    "def print_lists(n):\n",
    "    start = time.time()\n",
    "    for i in range(n):\n",
    "        print(i)\n",
    "    for j in range(n):\n",
    "        print(j)\n",
    "    end = time.time()\n",
    "    print(\"Execution Time:\", end - start)\n",
    "\n",
    "print_lists(10)"
   ]
  },
  {
   "cell_type": "markdown",
   "id": "024012b7",
   "metadata": {},
   "source": [
    "- Each loop runs $n$ times → $O(n) + O(n) = O(n)$"
   ]
  },
  {
   "cell_type": "markdown",
   "id": "9216dd71",
   "metadata": {},
   "source": [
    "## 🔁 Example 4: Loop with Logarithmic Steps $(O(log n))$"
   ]
  },
  {
   "cell_type": "code",
   "execution_count": null,
   "id": "4aeddc23",
   "metadata": {},
   "outputs": [],
   "source": [
    "import time\n",
    "\n",
    "def divide(n):\n",
    "    start = time.time()\n",
    "    while n > 1:\n",
    "        print(n)\n",
    "        n = n // 2\n",
    "    end = time.time()\n",
    "    print(\"Execution Time:\", end - start)\n",
    "\n",
    "divide(64)"
   ]
  },
  {
   "cell_type": "markdown",
   "id": "e7ca33c0",
   "metadata": {},
   "source": [
    "- $n$ gets halved each time → loop runs $log₂(n)$ times → $O(log n)$"
   ]
  },
  {
   "cell_type": "markdown",
   "id": "4ba42767",
   "metadata": {},
   "source": [
    "## 🔁 Example 5: Triangle Pattern Loop $(O(n²))$"
   ]
  },
  {
   "cell_type": "code",
   "execution_count": null,
   "id": "0cc39227",
   "metadata": {},
   "outputs": [],
   "source": [
    "import time\n",
    "\n",
    "def triangle(n):\n",
    "    start = time.time()\n",
    "    for i in range(n):\n",
    "        for j in range(i):\n",
    "            print(i, j)\n",
    "    end = time.time()\n",
    "    print(\"Execution Time:\", end - start)\n",
    "\n",
    "triangle(5)"
   ]
  },
  {
   "cell_type": "markdown",
   "id": "b1bc2623",
   "metadata": {},
   "source": [
    "- Outer loop: runs $n$ times\n",
    "- Inner loop: runs $i$ times → sum of $1 + 2 + ... + (n-1) = O(n²)$\n",
    "- $Total = O(n²)$"
   ]
  },
  {
   "cell_type": "markdown",
   "id": "7eb556a3",
   "metadata": {},
   "source": [
    "## 🔁 Summary of Iterative Complexity Patterns:"
   ]
  },
  {
   "cell_type": "markdown",
   "id": "e8e8ebc6",
   "metadata": {},
   "source": [
    "| Pattern                | Time Complexity    |\n",
    "| ---------------------- | ------------------ |\n",
    "| Single loop            | O(n)               |\n",
    "| Nested loop            | O(n²), O(n³), etc. |\n",
    "| Logarithmic loop       | O(log n)           |\n",
    "| Consecutive loops      | O(n) + O(n) = O(n) |\n",
    "| Triangular nested loop | O(n²)              |"
   ]
  },
  {
   "cell_type": "markdown",
   "id": "7f142e51",
   "metadata": {},
   "source": [
    "## 🔁 2. Recursive Programs\n",
    "- These solve problems by calling themselves with smaller inputs.\n",
    "- Complexity is calculated by recurrence relations.\n",
    "### ✅ Key Idea:\n",
    "- Write recurrence relation and solve it using:\n",
    "- Iterative method (expansion)\n",
    "- Recursion Tree\n",
    "- Master Theorem (advanced)"
   ]
  },
  {
   "cell_type": "markdown",
   "id": "c698c072",
   "metadata": {},
   "source": [
    "### ✅ Example 1: Factorial (O(n))"
   ]
  },
  {
   "cell_type": "code",
   "execution_count": null,
   "id": "a02681fe",
   "metadata": {},
   "outputs": [],
   "source": [
    "import time\n",
    "\n",
    "def fact(n):\n",
    "    if n == 0:\n",
    "        return 1\n",
    "    return n * fact(n - 1)\n",
    "\n",
    "start = time.time()\n",
    "print(\"Factorial:\", fact(10))\n",
    "end = time.time()\n",
    "print(\"Execution Time:\", end - start)"
   ]
  },
  {
   "cell_type": "markdown",
   "id": "b5d9d318",
   "metadata": {},
   "source": [
    "- Each call reduces $n$ by 1 → $Total$ $n$ calls → $O(n)$"
   ]
  },
  {
   "cell_type": "markdown",
   "id": "3a3f3081",
   "metadata": {},
   "source": [
    "## ✅ Example 2: Fibonacci (O(2ⁿ)) — Inefficient for large n"
   ]
  },
  {
   "cell_type": "code",
   "execution_count": null,
   "id": "a03fb995",
   "metadata": {},
   "outputs": [],
   "source": [
    "import time\n",
    "\n",
    "def fib(n):\n",
    "    if n <= 1:\n",
    "        return n\n",
    "    return fib(n - 1) + fib(n - 2)\n",
    "\n",
    "start = time.time()\n",
    "print(\"Fibonacci:\", fib(10))\n",
    "end = time.time()\n",
    "print(\"Execution Time:\", end - start)"
   ]
  },
  {
   "cell_type": "markdown",
   "id": "469091e9",
   "metadata": {},
   "source": [
    "- Makes 2 recursive calls each time\n",
    "- Forms a binary tree → Time = $O(2ⁿ)$"
   ]
  },
  {
   "cell_type": "markdown",
   "id": "9dc05ead",
   "metadata": {},
   "source": [
    "## ✅ Example 3: Binary Search (O(log n))"
   ]
  },
  {
   "cell_type": "code",
   "execution_count": null,
   "id": "40f5d5c3",
   "metadata": {},
   "outputs": [],
   "source": [
    "import time\n",
    "\n",
    "def binary_search(arr, low, high, key):\n",
    "    if low > high:\n",
    "        return -1\n",
    "    mid = (low + high) // 2\n",
    "    if arr[mid] == key:\n",
    "        return mid\n",
    "    elif arr[mid] < key:\n",
    "        return binary_search(arr, mid + 1, high, key)\n",
    "    else:\n",
    "        return binary_search(arr, low, mid - 1, key)\n",
    "\n",
    "arr = list(range(1000000))\n",
    "start = time.time()\n",
    "index = binary_search(arr, 0, len(arr) - 1, 999999)\n",
    "end = time.time()\n",
    "print(\"Index:\", index)\n",
    "print(\"Execution Time:\", end - start)"
   ]
  },
  {
   "cell_type": "markdown",
   "id": "c3588f28",
   "metadata": {},
   "source": [
    "- Each call reduces input size by half → $O(log n)$"
   ]
  },
  {
   "cell_type": "markdown",
   "id": "6fdfef09",
   "metadata": {},
   "source": [
    "## ✅ Example 4: Tower of Hanoi (O(2ⁿ))"
   ]
  },
  {
   "cell_type": "code",
   "execution_count": null,
   "id": "67116f36",
   "metadata": {},
   "outputs": [],
   "source": [
    "import time\n",
    "\n",
    "def hanoi(n, source, target, auxiliary):\n",
    "    if n == 1:\n",
    "        print(f\"Move disk from {source} to {target}\")\n",
    "        return\n",
    "    hanoi(n - 1, source, auxiliary, target)\n",
    "    print(f\"Move disk from {source} to {target}\")\n",
    "    hanoi(n - 1, auxiliary, target, source)\n",
    "\n",
    "start = time.time()\n",
    "hanoi(3, 'A', 'C', 'B')\n",
    "end = time.time()\n",
    "print(\"Execution Time:\", end - start)"
   ]
  },
  {
   "cell_type": "markdown",
   "id": "40b7ebfc",
   "metadata": {},
   "source": [
    "- Recurrence: $T(n)$ = $2T(n-1) + 1$ → Solves to $O(2ⁿ)$"
   ]
  },
  {
   "cell_type": "markdown",
   "id": "5ed405b6",
   "metadata": {},
   "source": [
    "## ✅ Example 5: Merge Sort (O(n log n))"
   ]
  },
  {
   "cell_type": "code",
   "execution_count": null,
   "id": "6e7335dd",
   "metadata": {},
   "outputs": [],
   "source": [
    "import time\n",
    "def merge_sort(arr):\n",
    "    if len(arr) > 1:\n",
    "        mid = len(arr) // 2\n",
    "        left = arr[:mid]\n",
    "        right = arr[mid:]\n",
    "\n",
    "        merge_sort(left)\n",
    "        merge_sort(right)\n",
    "\n",
    "        i = j = k = 0\n",
    "        # Merge logic\n",
    "        while i < len(left) and j < len(right):\n",
    "            if left[i] < right[j]:\n",
    "                arr[k] = left[i]\n",
    "                i += 1\n",
    "            else:\n",
    "                arr[k] = right[j]\n",
    "                j += 1\n",
    "            k += 1\n",
    "        while i < len(left):\n",
    "            arr[k] = left[i]\n",
    "            i += 1\n",
    "            k += 1\n",
    "        while j < len(right):\n",
    "            arr[k] = right[j]\n",
    "            j += 1\n",
    "            k += 1\n",
    "\n",
    "import random\n",
    "arr = random.sample(range(1000), 1000)\n",
    "start = time.time()\n",
    "merge_sort(arr)\n",
    "end = time.time()\n",
    "print(\"Execution Time:\", end - start)"
   ]
  },
  {
   "cell_type": "markdown",
   "id": "43b8fa99",
   "metadata": {},
   "source": [
    "- Divides array into two halves each time: $log$ $n$ levels\n",
    "- Merging takes $O(n)$ time per level\n",
    "- $Total = O(n log n)$"
   ]
  },
  {
   "cell_type": "markdown",
   "id": "d3393f22",
   "metadata": {},
   "source": [
    "## ✅ Summary of Recursive Complexity Patterns:\n",
    "\n",
    "| Recurrence Pattern    | Time Complexity |\n",
    "| --------------------- | --------------- |\n",
    "| T(n) = T(n-1) + O(1)  | O(n)            |\n",
    "| T(n) = 2T(n-1) + O(1) | O(2ⁿ)           |\n",
    "| T(n) = T(n/2) + O(1)  | O(log n)        |\n",
    "| T(n) = 2T(n/2) + O(n) | O(n log n)      |\n"
   ]
  },
  {
   "cell_type": "markdown",
   "id": "d404f104",
   "metadata": {},
   "source": []
  }
 ],
 "metadata": {
  "kernelspec": {
   "display_name": "Python 3",
   "language": "python",
   "name": "python3"
  },
  "language_info": {
   "codemirror_mode": {
    "name": "ipython",
    "version": 3
   },
   "file_extension": ".py",
   "mimetype": "text/x-python",
   "name": "python",
   "nbconvert_exporter": "python",
   "pygments_lexer": "ipython3",
   "version": "3.12.6"
  }
 },
 "nbformat": 4,
 "nbformat_minor": 5
}
