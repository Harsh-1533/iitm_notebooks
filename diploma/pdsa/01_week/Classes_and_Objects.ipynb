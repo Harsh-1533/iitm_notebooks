{
 "cells": [
  {
   "cell_type": "markdown",
   "id": "ab626caa",
   "metadata": {},
   "source": [
    "# Classes & Objects\n",
    "#### Abstract datatype\n",
    "- Stores some information\n",
    "- Designated functions to manipulate the information\n",
    "- For instance, stack : last-in. first-out, `push()`, `pop()`\n",
    "#### We able to create our own datatype. And this datatype will typically have two parts; it will have some information that is stored in it. But there may also be some discipline or some required way of controlling access to this information.\n",
    "#### Separate the (private) implementation from the (public) specification.\n",
    "#### Class :- \n",
    "- Template for a data type\n",
    "- How data is stored\n",
    "- How public functions manipulate data\n",
    "#### Object :- \n",
    "- Concrete instance of template (Class)\n",
    "## By ChatGPT\n",
    "#### What is a class in Python?\n",
    "- A class is blueprint for creating objects. It defines a structure and behavior that the created object will follow.\n",
    "- Think of class as a template and an object as an instance of that template.\n",
    "#### What is an Object?\n",
    "- An object is an instance of a class. When a class is defined, no memory is allocated until an object of that class is created.\n",
    "#### Important Concepts\n",
    "| Concept | Description |\n",
    "| --- | --- |\n",
    "| `self` | Refers to the current instance of ths class. Must be the first parameter of any method in the class. |\n",
    "| Constructor `__init__()` | Initializes the object with default or passed values. |\n",
    "| Method | Functions defined inside a class. |\n",
    "| Attribute | Variables bound to the object. |\n",
    "| Object | Instantiated entity of the class. |\n",
    "### Types of Methods\n",
    "#### 1. Instance Methods\n",
    "- Operate an instance variable using self."
   ]
  },
  {
   "cell_type": "code",
   "execution_count": null,
   "id": "7b0f3f3a",
   "metadata": {},
   "outputs": [],
   "source": [
    "class Car:\n",
    "    def display(self):\n",
    "        print(self.brand, self.model)"
   ]
  },
  {
   "cell_type": "markdown",
   "id": "7169875a",
   "metadata": {},
   "source": [
    "#### 2. Class Methods\n",
    "##### What is it?\n",
    "- A class method works with the class itself, not individual objects. It can access or modify class-level attributes.\n",
    "##### Key Point : First argument is always `cls` (not `self`)\n",
    "##### Decorator : `@classmethod`\n",
    "##### Example :"
   ]
  },
  {
   "cell_type": "code",
   "execution_count": null,
   "id": "361270fd",
   "metadata": {},
   "outputs": [],
   "source": [
    "class Student:\n",
    "    school_name = \"ABC School\"\n",
    "\n",
    "    def __init__(self,name):\n",
    "        self.name = name\n",
    "    \n",
    "    @classmethod\n",
    "    def get_school_name(cls):\n",
    "        return cls.school_name\n",
    "    \n",
    "    @classmethod\n",
    "    def set_school_name(cls,new_name):\n",
    "        cls.school_name = new_name\n",
    "\n",
    "st1 = Student(\"Sk\")\n",
    "print(st1.get_school_name())\n",
    "st1.set_school_name(\"Hk School\")\n",
    "print(st1.get_school_name())"
   ]
  },
  {
   "cell_type": "markdown",
   "id": "7145cdc7",
   "metadata": {},
   "source": [
    "#### 3. Static Method\n",
    "##### What is it?\n",
    "- A static method doesn’t take `self` or `cls`. It’s just like a normal function, but kept inside a class for logical grouping.\n",
    "##### Decorator : `@staticmethod`\n",
    "##### Example :"
   ]
  },
  {
   "cell_type": "code",
   "execution_count": null,
   "id": "5184c93e",
   "metadata": {},
   "outputs": [],
   "source": [
    "class MathHelper:\n",
    "    @staticmethod\n",
    "    def add(a, b):\n",
    "        return a + b\n",
    "    \n",
    "print(MathHelper.add(2,9))"
   ]
  },
  {
   "cell_type": "markdown",
   "id": "607b084f",
   "metadata": {},
   "source": [
    "- Why use it inside a class?\n",
    "    - To logically group a utility function with related data.\n",
    "    - You don’t need to access class or instance attributes."
   ]
  },
  {
   "cell_type": "markdown",
   "id": "80cfc09c",
   "metadata": {},
   "source": [
    "#### When to Use What?\n",
    "| You need to...                        | Use this        |\n",
    "| ------------------------------------- | --------------- |\n",
    "| Work with object instance (`self`)    | Instance method |\n",
    "| Access/modify class variables (`cls`) | Class method    |\n",
    "| Just use a helper/utility function    | Static method   |"
   ]
  },
  {
   "cell_type": "markdown",
   "id": "23098467",
   "metadata": {},
   "source": [
    "### Combined Example"
   ]
  },
  {
   "cell_type": "code",
   "execution_count": null,
   "id": "27c127ca",
   "metadata": {},
   "outputs": [],
   "source": [
    "class Employee:\n",
    "    company = \"OpenAI\"\n",
    "\n",
    "    def __init__(self, name):\n",
    "        self.name = name\n",
    "\n",
    "    def show(self):  # Instance method\n",
    "        print(f\"Name: {self.name}, Company: {Employee.company}\")\n",
    "\n",
    "    @classmethod\n",
    "    def change_company(cls, new_company):  # Class method\n",
    "        cls.company = new_company\n",
    "\n",
    "    @staticmethod\n",
    "    def is_working_day(day):  # Static method\n",
    "        return day.lower() not in ['saturday', 'sunday']\n",
    "\n",
    "emp1 = Employee(\"John\")\n",
    "emp1.show()  # Name: John, Company: OpenAI\n",
    "\n",
    "Employee.change_company(\"Google\")\n",
    "emp1.show()  # Name: John, Company: Google\n",
    "\n",
    "print(Employee.is_working_day(\"Monday\"))  # True\n",
    "print(Employee.is_working_day(\"Sunday\"))  # False"
   ]
  },
  {
   "cell_type": "markdown",
   "id": "c1b45353",
   "metadata": {},
   "source": [
    "#### 1. Instance Method vs Class Method vs Static Method\n",
    "| Feature              | Instance Method                   | Class Method                  | Static Method                                                 |\n",
    "| -------------------- | --------------------------------- | ----------------------------- | ------------------------------------------------------------- |\n",
    "| First Parameter      | `self`                            | `cls`                         | Nothing (no `self` or `cls`)                                  |\n",
    "| Accesses Object Data | ✅ Yes (`self.var`)                | ❌ Not directly                | ❌ Not directly                                                |\n",
    "| Accesses Class Data  | ✅ Yes (through `self.__class__`)  | ✅ Yes (`cls.var`)             | ❌ No                                                          |\n",
    "| Use Case             | Working with object-specific data | Working with class-level data | Utility/helper functions that don’t need object or class data |\n",
    "| Decorator            | None                              | `@classmethod`                | `@staticmethod`                                               |\n"
   ]
  },
  {
   "cell_type": "markdown",
   "id": "feed2c4f",
   "metadata": {},
   "source": [
    "### 🔹 In-Built (Magic / Dunder) Methods\n",
    "These are special methods with double underscores before and after. They give classes Pythonic behavior."
   ]
  },
  {
   "cell_type": "markdown",
   "id": "02029379",
   "metadata": {},
   "source": [
    "| Magic Method    | Purpose                                   |\n",
    "| --------------- | ----------------------------------------- |\n",
    "| `__init__()`    | Constructor                               |\n",
    "| `__str__()`     | String representation (used by `print()`) |\n",
    "| `__repr__()`    | Official string representation            |\n",
    "| `__len__()`     | Length using `len()`                      |\n",
    "| `__eq__()`      | Equality `==`                             |\n",
    "| `__lt__()`      | Less than `<`                             |\n",
    "| `__add__()`     | Addition using `+`                        |\n",
    "| `__getitem__()` | Indexing support                          |\n",
    "| `__setitem__()` | Set value at index                        |\n",
    "| `__delitem__()` | Delete item                               |\n",
    "| `__iter__()`    | Makes object iterable                     |\n",
    "| `__next__()`    | Next value in iteration                   |\n",
    "| `__call__()`    | Makes object callable like a function     |\n"
   ]
  },
  {
   "cell_type": "code",
   "execution_count": null,
   "id": "59213c54",
   "metadata": {},
   "outputs": [],
   "source": [
    "class MagicList:\n",
    "    def __init__(self, data=None):\n",
    "        self.data = data if data else []\n",
    "\n",
    "    def __str__(self):\n",
    "        return f\"MagicList with items: {self.data}\"\n",
    "\n",
    "    def __repr__(self):\n",
    "        return f\"MagicList({self.data})\"\n",
    "\n",
    "    def __len__(self):\n",
    "        return len(self.data)\n",
    "\n",
    "    def __eq__(self, other):\n",
    "        return self.data == other.data\n",
    "\n",
    "    def __lt__(self, other):\n",
    "        return len(self.data) < len(other.data)\n",
    "\n",
    "    def __add__(self, other):\n",
    "        return MagicList(self.data + other.data)\n",
    "\n",
    "    def __getitem__(self, index):\n",
    "        return self.data[index]\n",
    "\n",
    "    def __setitem__(self, index, value):\n",
    "        self.data[index] = value\n",
    "\n",
    "    def __delitem__(self, index):\n",
    "        del self.data[index]\n",
    "\n",
    "    def __iter__(self):\n",
    "        self._index = 0\n",
    "        return self\n",
    "\n",
    "    def __next__(self):\n",
    "        if self._index < len(self.data):\n",
    "            val = self.data[self._index]\n",
    "            self._index += 1\n",
    "            return val\n",
    "        else:\n",
    "            raise StopIteration\n",
    "\n",
    "    def __call__(self, index):\n",
    "        \"\"\"Allow calling the object like a function to get an item.\"\"\"\n",
    "        return self.data[index]\n",
    "\n",
    "\n",
    "a = MagicList([1, 2, 3])\n",
    "b = MagicList([4, 5])\n",
    "\n",
    "# __str__ and __repr__\n",
    "print(a)                      # MagicList with items: [1, 2, 3]\n",
    "print(repr(a))                # MagicList([1, 2, 3])\n",
    "\n",
    "# __len__\n",
    "print(len(a))                 # 3\n",
    "\n",
    "# __eq__ and __lt__\n",
    "print(a == b)                 # False\n",
    "print(a < b)                  # False\n",
    "\n",
    "# __add__\n",
    "c = a + b\n",
    "print(c)                      # MagicList with items: [1, 2, 3, 4, 5]\n",
    "\n",
    "# __getitem__, __setitem__, __delitem__\n",
    "print(a[1])                   # 2\n",
    "a[1] = 20\n",
    "print(a)                      # MagicList with items: [1, 20, 3]\n",
    "del a[0]\n",
    "print(a)                      # MagicList with items: [20, 3]\n",
    "\n",
    "# __iter__ and __next__\n",
    "for item in a:\n",
    "    print(\"Iterated:\", item)  # 20, then 3\n",
    "\n",
    "# __call__\n",
    "print(a(0))                   # 20"
   ]
  },
  {
   "cell_type": "markdown",
   "id": "d1799438",
   "metadata": {},
   "source": [
    "### 🧠 Summary of What's Happening\n",
    "\n",
    "| Magic Method    | Use in Code                     |\n",
    "| --------------- | ------------------------------- |\n",
    "| `__init__()`    | Initialize with `[1, 2, 3]`     |\n",
    "| `__str__()`     | `print(a)`                      |\n",
    "| `__repr__()`    | `repr(a)`                       |\n",
    "| `__len__()`     | `len(a)`                        |\n",
    "| `__eq__()`      | `a == b`                        |\n",
    "| `__lt__()`      | `a < b`                         |\n",
    "| `__add__()`     | `a + b`                         |\n",
    "| `__getitem__()` | `a[1]`                          |\n",
    "| `__setitem__()` | `a[1] = 20`                     |\n",
    "| `__delitem__()` | `del a[0]`                      |\n",
    "| `__iter__()`    | Used in `for` loop              |\n",
    "| `__next__()`    | Gets next item in iteration     |\n",
    "| `__call__()`    | `a(0)` to get value like a func |\n"
   ]
  }
 ],
 "metadata": {
  "kernelspec": {
   "display_name": "Python 3",
   "language": "python",
   "name": "python3"
  },
  "language_info": {
   "codemirror_mode": {
    "name": "ipython",
    "version": 3
   },
   "file_extension": ".py",
   "mimetype": "text/x-python",
   "name": "python",
   "nbconvert_exporter": "python",
   "pygments_lexer": "ipython3",
   "version": "3.12.6"
  }
 },
 "nbformat": 4,
 "nbformat_minor": 5
}
