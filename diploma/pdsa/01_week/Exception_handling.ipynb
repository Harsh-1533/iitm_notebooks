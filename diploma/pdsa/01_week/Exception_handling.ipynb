{
 "cells": [
  {
   "cell_type": "markdown",
   "id": "883f2822",
   "metadata": {},
   "source": [
    "### 1. What Is an Exception?\n",
    "- Exception: An event that occurs during program execution and disrupts the normal flow of instructions.\n",
    "\n",
    "- Examples include dividing by zero, accessing a missing key in a dictionary, or opening a non-existent file.\n",
    "\n",
    "- Without handling, an unhandled exception will terminate your program with a traceback."
   ]
  },
  {
   "cell_type": "markdown",
   "id": "f32a1339",
   "metadata": {},
   "source": [
    "### 2. The try / except Block"
   ]
  },
  {
   "cell_type": "code",
   "execution_count": 3,
   "id": "658d4336",
   "metadata": {},
   "outputs": [
    {
     "name": "stdout",
     "output_type": "stream",
     "text": [
      "Cannot divide by zero!\n"
     ]
    }
   ],
   "source": [
    "x = 0\n",
    "try:\n",
    "    # Code that might raise an exception\n",
    "    result = 10 / x\n",
    "except ZeroDivisionError:\n",
    "    # Handle specific exception\n",
    "    print(\"Cannot divide by zero!\")\n"
   ]
  },
  {
   "cell_type": "markdown",
   "id": "67d2cce6",
   "metadata": {},
   "source": [
    "- try: Wrap the code you want to monitor for errors.\n",
    "\n",
    "- except <ExceptionType>: Catch and handle a particular kind of exception.\n",
    "\n",
    "- You can catch multiple types or use a tuple:"
   ]
  },
  {
   "cell_type": "code",
   "execution_count": 5,
   "id": "ab33f7ca",
   "metadata": {},
   "outputs": [],
   "source": [
    "#except (ValueError, TypeError):\n",
    "    # Handle either ValueError or TypeError"
   ]
  },
  {
   "cell_type": "markdown",
   "id": "9e167539",
   "metadata": {},
   "source": []
  },
  {
   "cell_type": "markdown",
   "id": "3dfe0f57",
   "metadata": {},
   "source": [
    "### 3. The else clause\n",
    "- Runs only if the try block didn’t raise an exception:"
   ]
  },
  {
   "cell_type": "code",
   "execution_count": 7,
   "id": "540b7ccd",
   "metadata": {},
   "outputs": [
    {
     "name": "stdout",
     "output_type": "stream",
     "text": [
      "That’s not a valid integer!\n"
     ]
    }
   ],
   "source": [
    "try:\n",
    "    data = int(input(\"Enter a number: \"))\n",
    "except ValueError:\n",
    "    print(\"That’s not a valid integer!\")\n",
    "else:\n",
    "    print(f\"You entered {data}\")"
   ]
  },
  {
   "cell_type": "markdown",
   "id": "ffb277c6",
   "metadata": {},
   "source": [
    "- Use else to keep your try block focused on the risky operation, and post-success logic separate."
   ]
  },
  {
   "cell_type": "markdown",
   "id": "3f896f86",
   "metadata": {},
   "source": [
    "### 4. The finally Clause\n",
    "- Always executes no matter what—useful for cleanup (closing files, releasing resources):"
   ]
  },
  {
   "cell_type": "code",
   "execution_count": 8,
   "id": "45a98f0f",
   "metadata": {},
   "outputs": [
    {
     "name": "stdout",
     "output_type": "stream",
     "text": [
      "You entered 2\n",
      "Ok Finally entered\n"
     ]
    }
   ],
   "source": [
    "try:\n",
    "    data = int(input(\"Enter a number: \"))\n",
    "except ValueError:\n",
    "    print(\"That’s not a valid integer!\")\n",
    "else:\n",
    "    print(f\"You entered {data}\")\n",
    "finally:\n",
    "    print(\"Ok Finally entered\")"
   ]
  },
  {
   "cell_type": "markdown",
   "id": "c67034f8",
   "metadata": {},
   "source": [
    "- Even if an exception occurs, finally ensures your cleanup code runs."
   ]
  },
  {
   "cell_type": "markdown",
   "id": "d680d0dc",
   "metadata": {},
   "source": [
    "### 5. Raising Your Own Exceptions with raise\n",
    "- You can signal an error yourself:"
   ]
  },
  {
   "cell_type": "code",
   "execution_count": 9,
   "id": "209a322d",
   "metadata": {},
   "outputs": [
    {
     "name": "stdout",
     "output_type": "stream",
     "text": [
      "Caught error: Age cannot be negative\n"
     ]
    }
   ],
   "source": [
    "def set_age(age):\n",
    "    if age < 0:\n",
    "        raise ValueError(\"Age cannot be negative\")\n",
    "    return age\n",
    "\n",
    "# Usage\n",
    "try:\n",
    "    set_age(-5)\n",
    "except ValueError as e:\n",
    "    print(f\"Caught error: {e}\")"
   ]
  },
  {
   "cell_type": "markdown",
   "id": "052a46e8",
   "metadata": {},
   "source": [
    "- raise ExceptionType(\"message\") creates and throws a new exception."
   ]
  },
  {
   "cell_type": "markdown",
   "id": "f4cda517",
   "metadata": {},
   "source": [
    "### 6. Custom Exception Classes\n",
    "- For domain-specific errors, define your own:"
   ]
  },
  {
   "cell_type": "code",
   "execution_count": 14,
   "id": "6a4f7e1a",
   "metadata": {},
   "outputs": [
    {
     "name": "stdout",
     "output_type": "stream",
     "text": [
      "Transaction failed: Balance: 1000, Attempted withdrawal: 1500\n"
     ]
    }
   ],
   "source": [
    "class InsufficientFundsError(Exception):\n",
    "    \"\"\"Raised when an account has insufficient balance.\"\"\"\n",
    "    pass\n",
    "\n",
    "class BankAccount:\n",
    "    def __init__(self, balance=0):\n",
    "        self.balance = balance\n",
    "\n",
    "    def withdraw(self, amount):\n",
    "        if amount > self.balance:\n",
    "            raise InsufficientFundsError(f\"Balance: {self.balance}, Attempted withdrawal: {amount}\")\n",
    "        self.balance -= amount\n",
    "\n",
    "acct = BankAccount(1000)\n",
    "\n",
    "try:\n",
    "    acct.withdraw(amount = 1500)\n",
    "except InsufficientFundsError as e:\n",
    "    print(\"Transaction failed:\", e)\n"
   ]
  },
  {
   "cell_type": "markdown",
   "id": "4f0ae301",
   "metadata": {},
   "source": [
    "### 7. Best Practices\n",
    "- Catch only what you can handle. Don’t use a bare except: unless you re-raise—this can hide bugs.\n",
    "\n",
    "- Be specific. Prefer except ValueError: over except Exception:.\n",
    "\n",
    "- Clean up in finally or—better—use context managers (with statements) for resources.\n",
    "\n",
    "- Use custom exceptions for clearer, more maintainable error signaling.\n",
    "\n",
    "- Avoid logic in except that can itself raise unexpected errors."
   ]
  },
  {
   "cell_type": "code",
   "execution_count": 15,
   "id": "33f5fad6",
   "metadata": {},
   "outputs": [
    {
     "name": "stdout",
     "output_type": "stream",
     "text": [
      "Error: '>' not supported between instances of 'int' and 'str'\n",
      "Transaction attempt complete.\n"
     ]
    }
   ],
   "source": [
    "class InsufficientFundsError(Exception):\n",
    "    pass\n",
    "\n",
    "def withdraw(balance, amount):\n",
    "    if amount > balance:\n",
    "        raise InsufficientFundsError(\"Not enough money\")\n",
    "    return balance - amount\n",
    "\n",
    "try:\n",
    "    new_balance = withdraw(\"100\", 150)  # Intentionally causing TypeError\n",
    "except (InsufficientFundsError, TypeError) as e:\n",
    "    print(\"Error:\", e)\n",
    "else:\n",
    "    print(\"Withdrawal successful, new balance:\", new_balance)\n",
    "finally:\n",
    "    print(\"Transaction attempt complete.\")\n"
   ]
  },
  {
   "cell_type": "markdown",
   "id": "1ed8f274",
   "metadata": {},
   "source": [
    "### Exceptions can be used in a sense in a positive way, they do not have to only be used in a negative way to catch errors."
   ]
  },
  {
   "cell_type": "code",
   "execution_count": 18,
   "id": "1ad42cfa",
   "metadata": {},
   "outputs": [
    {
     "name": "stdout",
     "output_type": "stream",
     "text": [
      "{'apple': 10, 'banana': 5, 'orange': 3}\n"
     ]
    }
   ],
   "source": [
    "my_dict = {\n",
    "    \"apple\": 10,\n",
    "    \"banana\": 5\n",
    "}\n",
    "\n",
    "key_to_update = \"orange\"\n",
    "value_to_add = 3\n",
    "\n",
    "try:\n",
    "    # Try to update the existing value\n",
    "    my_dict[key_to_update] += value_to_add\n",
    "except KeyError:\n",
    "    # If key is not found, create it with initial value\n",
    "    my_dict[key_to_update] = value_to_add\n",
    "\n",
    "print(my_dict)"
   ]
  }
 ],
 "metadata": {
  "kernelspec": {
   "display_name": "Python 3",
   "language": "python",
   "name": "python3"
  },
  "language_info": {
   "codemirror_mode": {
    "name": "ipython",
    "version": 3
   },
   "file_extension": ".py",
   "mimetype": "text/x-python",
   "name": "python",
   "nbconvert_exporter": "python",
   "pygments_lexer": "ipython3",
   "version": "3.12.6"
  }
 },
 "nbformat": 4,
 "nbformat_minor": 5
}
