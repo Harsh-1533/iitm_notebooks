{
 "cells": [
  {
   "cell_type": "markdown",
   "id": "26e0ce1a",
   "metadata": {},
   "source": [
    "Python executes $10^7$ operation per second"
   ]
  },
  {
   "cell_type": "code",
   "execution_count": 19,
   "id": "e19d6da0",
   "metadata": {},
   "outputs": [
    {
     "name": "stdout",
     "output_type": "stream",
     "text": [
      "[7, 0, 8]\n"
     ]
    }
   ],
   "source": [
    "l1 = [2,4,3]\n",
    "l2 = [5,6,4]\n",
    "l1.reverse()\n",
    "l2.reverse()\n",
    "\n",
    "ls1 = \"\".join(str(i) for i in l1)\n",
    "ls2 = \"\".join(str(i) for i in l2)\n",
    "\n",
    "li1 = int(ls1)\n",
    "li2 = int(ls2)\n",
    "\n",
    "lia = li1+li2\n",
    "\n",
    "lsa = str(lia)\n",
    "\n",
    "lla =  [int(i) for i in lsa]\n",
    "\n",
    "lla.reverse()\n",
    "\n",
    "print(lla)"
   ]
  },
  {
   "cell_type": "code",
   "execution_count": null,
   "id": "bf2a9d69",
   "metadata": {},
   "outputs": [],
   "source": [
    "import time\n",
    "\n",
    "class TimeError(Exception):\n",
    "    \"\"\"A custom exception used to report errors in use of Timer class\"\"\"\n",
    "\n",
    "class Timer:\n",
    "    def __init__(self):\n",
    "        self._start_time = None\n",
    "        self._elapsed_time = None\n",
    "\n",
    "    def start(self):\n",
    "        if self._start_time is not None:\n",
    "            raise TimeError(\"Timer is running. Use .stop()\")\n",
    "        self._start_time = time.perf_counter()\n",
    "\n",
    "    def stop(self):\n",
    "        if self._start_time is None:\n",
    "            raise TimeError(\"Timer is not running. Use .start()\")\n",
    "        self._elapsed_time = time.perf_counter() - self._start_time\n",
    "        self._start_time = None\n",
    "\n",
    "    def elapsed(self):\n",
    "        if self._elapsed_time is None:\n",
    "            raise TimeError(\"Timer has not been run yet. Use .start()\")\n",
    "        return (self._elapsed_time)\n",
    "\n",
    "    def __str__(self):\n",
    "        return (str(self._elapsed_time))"
   ]
  },
  {
   "cell_type": "code",
   "execution_count": null,
   "id": "c52028f8",
   "metadata": {},
   "outputs": [],
   "source": [
    "t = Timer()\n",
    "for j in range(4,15):\n",
    "    t.start()\n",
    "    n = 0\n",
    "    for i in range(10**j):\n",
    "        n = n + i\n",
    "    t.stop()\n",
    "    print(j,t)"
   ]
  },
  {
   "cell_type": "code",
   "execution_count": null,
   "id": "c27064de",
   "metadata": {},
   "outputs": [
    {
     "name": "stdout",
     "output_type": "stream",
     "text": [
      "6\n",
      "5\n"
     ]
    }
   ],
   "source": [
    "# def prime(n):\n",
    "#     if n <= 1:\n",
    "#         return False\n",
    "#     for i in range(2, int(n**0.5) + 1):\n",
    "#         if n % i == 0:\n",
    "#             return False\n",
    "#     return True\n",
    "\n",
    "# def Twin_Primes(n, m):\n",
    "#     primeList = []\n",
    "#     answerList = []\n",
    "#     for i in range(n, m+1):\n",
    "#         if prime(i):\n",
    "#             primeList.append(i)\n",
    "#     for i in range(1, len(primeList)):\n",
    "#         if primeList[i] - primeList[i-1] == 2:\n",
    "#             answerList.append((primeList[i-1], primeList[i]))\n",
    "#     return answerList\n",
    "\n",
    "# n=int(input())\n",
    "# m=int(input())\n",
    "# print(sorted(Twin_Primes(n, m)))\n"
   ]
  }
 ],
 "metadata": {
  "kernelspec": {
   "display_name": "Python 3",
   "language": "python",
   "name": "python3"
  },
  "language_info": {
   "codemirror_mode": {
    "name": "ipython",
    "version": 3
   },
   "file_extension": ".py",
   "mimetype": "text/x-python",
   "name": "python",
   "nbconvert_exporter": "python",
   "pygments_lexer": "ipython3",
   "version": "3.12.6"
  }
 },
 "nbformat": 4,
 "nbformat_minor": 5
}
