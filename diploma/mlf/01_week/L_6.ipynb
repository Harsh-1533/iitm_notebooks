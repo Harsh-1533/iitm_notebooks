{
 "cells": [
  {
   "cell_type": "markdown",
   "id": "ad073b66",
   "metadata": {},
   "source": [
    "# Density Estimation\n",
    "- Data: {${x^1, x^2,.....,x^n}$}\n",
    "- $x^i$ $\\in$ $\\mathbb{R}^d$\n",
    "- Probability mapping P: $\\mathbb{R}^d$ -> $\\mathbb{R}_{+}$ that 'sums' to one.\n",
    "- Goal : P(x) is large if x $\\in$ Data, and low otherwise.\n",
    "- $\\text{Loss} = \\frac{1}{n} \\sum_{i=1}^{n} -\\log\\left(P(\\mathbf{x}^i)\\right)$"
   ]
  },
  {
   "cell_type": "markdown",
   "id": "0631ca32",
   "metadata": {},
   "source": [
    "# 📘 Concept Covered\n",
    "\n",
    "## 🔹 Unsupervised Learning\n",
    "\n",
    "**Definition:**  \n",
    "Unsupervised learning is a type of machine learning where **we do not have labeled data**. The algorithm tries to find patterns or structure in the input data **without being given the correct output**.\n",
    "\n",
    "**Goal:**  \n",
    "To discover hidden structures in the data such as:\n",
    "- **Clusters** (e.g., grouping customers with similar behavior)\n",
    "- **Patterns or correlations**\n",
    "- **Low-dimensional representations** of data\n",
    "\n",
    "**Examples of Unsupervised Learning:**\n",
    "- Clustering (e.g., K-Means, DBSCAN)\n",
    "- Dimensionality Reduction (e.g., PCA, t-SNE)\n",
    "- Anomaly Detection\n",
    "- Density Estimation\n",
    "\n",
    "---\n",
    "\n",
    "## 🔹 Density Estimation\n",
    "\n",
    "**Definition:**  \n",
    "Density estimation is the process of **estimating the probability distribution** that a dataset is drawn from. It tells us **where data points are likely or unlikely to occur**.\n",
    "\n",
    "**Two Main Types:**\n",
    "1. **Parametric:**  \n",
    "   Assumes a fixed form for the distribution (e.g., Gaussian/Normal distribution).  \n",
    "   _Example:_ Fitting a normal distribution using mean and variance.\n",
    "\n",
    "2. **Non-Parametric:**  \n",
    "   Makes no strong assumptions about the form of the distribution.  \n",
    "   _Example:_ Kernel Density Estimation (KDE), Histograms\n",
    "\n",
    "**Why It’s Useful in Unsupervised Learning:**\n",
    "- Helps detect **anomalies or outliers** (in low-density regions)\n",
    "- Forms the basis of some **clustering methods**\n",
    "- Used in **generative models** (e.g., VAEs, GANs)\n",
    "\n",
    "---\n",
    "\n",
    "## ✅ Summary Table\n",
    "\n",
    "| Concept                  | Purpose                                      | Example                                  |\n",
    "|--------------------------|----------------------------------------------|------------------------------------------|\n",
    "| **Unsupervised Learning** | Find patterns in **unlabeled data**          | Clustering, anomaly detection            |\n",
    "| **Density Estimation**   | Estimate **data distribution**               | KDE to find high-density data regions    |\n"
   ]
  }
 ],
 "metadata": {
  "language_info": {
   "name": "python"
  }
 },
 "nbformat": 4,
 "nbformat_minor": 5
}
