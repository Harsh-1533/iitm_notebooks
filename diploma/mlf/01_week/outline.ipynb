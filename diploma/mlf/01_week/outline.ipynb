{
 "cells": [
  {
   "cell_type": "markdown",
   "id": "7b05a9a4",
   "metadata": {},
   "source": [
    "## Outline\n",
    "1. What is Machine Learning?\n",
    "2. The Wonders of Machine Learning\n",
    "3. Data, Models and ML Tasks\n",
    "4. Supervised Learning\n",
    "    1. Regression\n",
    "    2. Classification\n",
    "5. Unsupervised Learning\n",
    "    1. Dimensionality Reduction\n",
    "    2. Density Estimation"
   ]
  }
 ],
 "metadata": {
  "language_info": {
   "name": "python"
  }
 },
 "nbformat": 4,
 "nbformat_minor": 5
}
