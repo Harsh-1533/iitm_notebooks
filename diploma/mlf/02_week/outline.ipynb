{
 "cells": [
  {
   "cell_type": "markdown",
   "id": "ce562637",
   "metadata": {},
   "source": [
    "# Outline Of week 2\n",
    "\n",
    "- Sets and Functions\n",
    "    - Notations\n",
    "    - Logic\n",
    "    - Graphs and visualizations\n",
    "- Univariate Calculus\n",
    "    - Continuity and differentiability\n",
    "    - Derivatives and Linear approximations\n",
    "    - Applications/Advanced rules\n",
    "- Multivariate Calculus\n",
    "    - Line and planes in high dimensional space.\n",
    "    - Partial derivatives\n",
    "    - Gradients\n",
    "    - Linear approximations and Alternate gradient interpretations\n",
    "    - Applications / Advanced rules"
   ]
  }
 ],
 "metadata": {
  "language_info": {
   "name": "python"
  }
 },
 "nbformat": 4,
 "nbformat_minor": 5
}
