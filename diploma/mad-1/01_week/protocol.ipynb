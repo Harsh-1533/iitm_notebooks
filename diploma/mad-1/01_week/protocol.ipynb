{
 "cells": [
  {
   "cell_type": "markdown",
   "id": "0fdc0c29",
   "metadata": {},
   "source": [
    "# 🧠 Part 1: Protocols and HTTP Methods\n",
    "## ✅ What is a Protocol?\n",
    "- A network protocol is a set of rules that define how data is formatted, transmitted, and received over a network.\n",
    "\n",
    "## ✅ Common Protocols:\n",
    "- HTTP (Hypertext Transfer Protocol) – Used for transferring web pages\n",
    "\n",
    "- HTTPS – Secure version of HTTP\n",
    "\n",
    "- FTP (File Transfer Protocol) – For transferring files\n",
    "\n",
    "- TCP/IP – Core communication protocols of the internet\n",
    "\n",
    "- SMTP – Used for sending emails\n",
    "\n",
    "## ✅ Key HTTP Methods:\n",
    "\n",
    "| Method      | Purpose                                              |\n",
    "| ----------- | ---------------------------------------------------- |\n",
    "| **GET**     | Requests data from the server (e.g., a web page)     |\n",
    "| **POST**    | Submits data to be processed (e.g., form submission) |\n",
    "| **PUT**     | Replaces or updates a resource                       |\n",
    "| **DELETE**  | Deletes a resource                                   |\n",
    "| **HEAD**    | Similar to GET, but returns only headers             |\n",
    "| **OPTIONS** | Shows allowed methods on a resource                  |\n",
    "\n",
    "These are all part of the stateless HTTP protocol (each request is independent).\n",
    "\n",
    "## ***✅ Summary:***\n",
    "- Protocols define rules for communication between systems.\n",
    "\n",
    "- HTTP methods like GET and POST define what action a client wants."
   ]
  }
 ],
 "metadata": {
  "language_info": {
   "name": "python"
  }
 },
 "nbformat": 4,
 "nbformat_minor": 5
}
