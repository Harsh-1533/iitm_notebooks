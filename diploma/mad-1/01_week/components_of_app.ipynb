{
 "cells": [
  {
   "cell_type": "markdown",
   "id": "0c6ec807",
   "metadata": {},
   "source": [
    "# ***Components of App***\n",
    "- Storage\n",
    "- Computation\n",
    "- Presentation"
   ]
  },
  {
   "cell_type": "markdown",
   "id": "87f2d8ed",
   "metadata": {},
   "source": [
    "## 1. ***Storage Layer (Data / Persistence Layer)***\n",
    "   - This is where data is stored, retrieved, and managed.\n",
    "#### 🔹 Responsibilities:\n",
    "   - Storing and retrieving user or app data\n",
    "   - Managing databases and files\n",
    "   - Ensuring data security and consistency\n",
    "#### 🔹 Technologies:\n",
    "   - Databases: MySQL, MongoDB, SQLite, PostgreSQL, Firebase\n",
    "   - Cloud storage: AWS S3, Google Cloud Storage\n",
    "   - Local storage (on mobile): Shared Preferences, Core Data\n",
    "#### 🔹 Examples:\n",
    "   - User profiles\n",
    "   - Saved settings\n",
    "   - Image uploads"
   ]
  },
  {
   "cell_type": "markdown",
   "id": "cbbe5806",
   "metadata": {},
   "source": [
    "## 2. ***Computation Layer (Logic / Application / Business Layer)***\n",
    "   - This is the brain of the app — where logic and decisions happen.\n",
    "#### 🔹 Responsibilities:\n",
    "   - Processing data\n",
    "   - Applying business rules\n",
    "   - Communicating between frontend and backend\n",
    "   - Handling sessions, validation, calculations\n",
    "#### 🔹 Technologies:\n",
    "   - Backend languages/frameworks:\n",
    "   - Node.js, Django, Spring Boot, Laravel\n",
    "   - Middleware\n",
    "   - Mobile app logic: ViewModels, Controllers\n",
    "#### 🔹 Examples:\n",
    "   - Validating user input\n",
    "   - Calculating pricing\n",
    "   - Managing app state"
   ]
  },
  {
   "cell_type": "markdown",
   "id": "1f236dd7",
   "metadata": {},
   "source": [
    "## 3. ***Presentation Layer (Frontend)***\n",
    "   - This is the user interface (UI) and everything the user interacts with.\n",
    "#### 🔹 Responsibilities:\n",
    "   - Displaying data to the user\n",
    "   - Handling user input\n",
    "   - Providing visual feedback\n",
    "#### 🔹 Technologies:\n",
    "   - Mobile: Swift (iOS), Kotlin (Android), Flutter, React Native\n",
    "   - Web: HTML, CSS, JavaScript, React, Angular\n",
    "#### 🔹 Examples:\n",
    "   - Login screen\n",
    "   - Dashboard UI\n",
    "   - Buttons, forms, charts"
   ]
  },
  {
   "cell_type": "markdown",
   "id": "6da2a358",
   "metadata": {},
   "source": [
    "# ***Platforms***\n",
    "- Desktop\n",
    "- Mobile\n",
    "- Web-based\n",
    "- Embedded"
   ]
  },
  {
   "cell_type": "markdown",
   "id": "767d1829",
   "metadata": {},
   "source": [
    "## Desktop\n",
    "   - Keyboard, mouse, video\n",
    "   - Desktop model: folders, files, documents\n",
    "## Mobile\n",
    "   - Touchscreen interface\n",
    "   - Voice, tilt, camera support\n",
    "   - Small self-contained apps\n",
    "## Web-based\n",
    "   - Data stored in datacenter (persistent)\n",
    "   - Cloud access: any device, anywhere\n",
    "## Embedded\n",
    "   - Single function\n",
    "   - Limited scope and resources"
   ]
  },
  {
   "cell_type": "markdown",
   "id": "fd66dff2",
   "metadata": {},
   "source": [
    "# ***By ChatGPT Platform features explanation***\n",
    "## 🖥️ 1. Desktop Platform Features\n",
    "\n",
    "| Feature                    | Description                                                |\n",
    "| -------------------------- | ---------------------------------------------------------- |\n",
    "| **Full Hardware Access**   | Can use RAM, CPU, GPU, file system directly                |\n",
    "| **Offline Functionality**  | Most desktop apps can run without internet                 |\n",
    "| **High Performance**       | Suitable for heavy tasks like video editing or 3D design   |\n",
    "| **Large Screen Interface** | Designed for keyboard, mouse, and big screens              |\n",
    "| **OS Dependent**           | Apps must be built for Windows, macOS, or Linux separately |\n",
    "\n",
    "## 📱 2. Mobile Platform Features\n",
    "\n",
    "| Feature                    | Description                                                             |\n",
    "| -------------------------- | ----------------------------------------------------------------------- |\n",
    "| **Touch Interface**        | Apps are designed for finger interaction                                |\n",
    "| **Portability**            | Always with the user, supports on-the-go usage                          |\n",
    "| **Sensors Access**         | Can use GPS, accelerometer, camera, etc.                                |\n",
    "| **Battery Optimized**      | Must manage power usage carefully                                       |\n",
    "| **App Store Distribution** | Delivered via Google Play, Apple App Store                              |\n",
    "| **Cross-Platform Tools**   | Frameworks like Flutter or React Native can target both Android and iOS |\n",
    "\n",
    "## 🌐 3. Web-Based Platform Features\n",
    "\n",
    "| Feature                   | Description                                                                             |\n",
    "| ------------------------- | --------------------------------------------------------------------------------------- |\n",
    "| **Cross-Platform**        | Works on any device with a browser (PC, mobile, tablet)                                 |\n",
    "| **No Installation**       | Runs directly from a URL                                                                |\n",
    "| **Easy Updates**          | Changes on the server are reflected immediately for all users                           |\n",
    "| **Responsive Design**     | Can adapt UI to different screen sizes                                                  |\n",
    "| **Dependent on Internet** | Usually requires a live connection                                                      |\n",
    "| **Limited Device Access** | Cannot easily access hardware like camera, file system (unless permissions are granted) |\n",
    "\n",
    "## 🔌 4. Embedded Platform Features\n",
    "\n",
    "| Feature                  | Description                                                                  |\n",
    "| ------------------------ | ---------------------------------------------------------------------------- |\n",
    "| **Real-Time Processing** | Designed for specific tasks with immediate response (e.g., sensor input)     |\n",
    "| **Resource Constraints** | Limited RAM, storage, and processing power                                   |\n",
    "| **Custom Hardware**      | Runs on microcontrollers or specialized boards (e.g., Arduino, Raspberry Pi) |\n",
    "| **Long Lifecycle**       | Devices often run the same software for years                                |\n",
    "| **Highly Reliable**      | Used in critical systems like medical devices or industrial machines         |\n",
    "| **Usually Offline**      | Most run without an internet connection unless IoT-enabled                   |\n",
    "\n",
    "\n",
    "## 🔁 Comparison Table:\n",
    "\n",
    "| Feature / Platform      | Desktop        | Mobile       | Web-Based       | Embedded       |\n",
    "| ----------------------- | -------------- | ------------ | --------------- | -------------- |\n",
    "| **Offline Capable**     | ✅ Yes          | ✅ Yes        | ❌ Usually No    | ✅ Yes          |\n",
    "| **Cross-Platform**      | ❌ No           | ✅ With tools | ✅ Yes           | ❌ No           |\n",
    "| **Installation Needed** | ✅ Yes          | ✅ Yes        | ❌ No            | ✅ Yes          |\n",
    "| **Hardware Access**     | ✅ Full         | ✅ Limited    | ⚠️ Very Limited | ✅ Specialized  |\n",
    "| **UI Input Type**       | Mouse/Keyboard | Touchscreen  | Varies          | Minimal/Custom |\n",
    "| **Performance**         | 🔼 High        | 🔼 Medium    | 🔽 Medium       | 🔽 Optimized   |\n"
   ]
  }
 ],
 "metadata": {
  "language_info": {
   "name": "python"
  }
 },
 "nbformat": 4,
 "nbformat_minor": 5
}
