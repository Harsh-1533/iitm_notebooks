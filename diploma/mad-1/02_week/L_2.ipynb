{
 "cells": [
  {
   "cell_type": "markdown",
   "id": "6250b572",
   "metadata": {},
   "source": [
    "# Efficiency of Encoding\n",
    "\n",
    "**1. Efficiency?**\n",
    "- Most common language on Web: ???\n",
    "- Should all characters be represented with same number of bits?\n",
    "- Example:\n",
    "    - Text document with 1000 words, approximately 5000 characters (including spaces)\n",
    "    - UCS-4 encoding: 32b x 5000 = 160,000 bits\n",
    "    - ASCII encoding: 8b x 5000 = 40,000 bits\n",
    "    - Original 7-bit ASCII sufficient for English: 7b x 5000 = 35,000 bits\n",
    "    - Minimum needed to encode just 'a' - 'z', numbers and some special characters: could fit in 6 bits: 30,000 bits\n",
    "    - Optimal coding based on frequency of occurrence:\n",
    "        - 'e' is most common letter, 't', 'a', 'o', ...\n",
    "        - Huffman or similar encoding: ~ 10-20,000 bits, possibly less"
   ]
  },
  {
   "cell_type": "markdown",
   "id": "3d0c5063",
   "metadata": {},
   "source": [
    "**2. Solvable in general?**\n",
    "- Impossible to encode by actual character frequency: depends on text\n",
    "    - Just use compression methods like \"zip\" instead!\n",
    "- But can encoding be a good halfway point?\n",
    "- Example:\n",
    "    - Use 1 byte for most common alphabets\n",
    "    - Group others according to frequency, have \"prefix\" codes to indicate"
   ]
  },
  {
   "cell_type": "markdown",
   "id": "22ff17b4",
   "metadata": {},
   "source": [
    "# L2.2: Efficiency of Encoding  \n",
    "**Learning Outcomes:**  \n",
    "Understand and compare different encoding techniques used to store data efficiently in computer systems.\n",
    "\n",
    "---\n",
    "\n",
    "## 🔍 What is Encoding?\n",
    "**Encoding** refers to the process of converting data into a specific format for efficient storage, transmission, or processing. The goal is often to reduce the size of the data while preserving its meaning and usability.\n",
    "\n",
    "---\n",
    "\n",
    "## 🧠 Why is Encoding Important?\n",
    "- Saves **storage space**\n",
    "- Reduces **transmission time** over networks\n",
    "- Improves **performance** of systems\n",
    "- Enables **compression** and **security**\n",
    "\n",
    "---\n",
    "\n",
    "## 📦 Common Encoding Techniques\n",
    "\n",
    "| Encoding Technique      | Description                                                                 | Example Use Case                        |\n",
    "|-------------------------|-----------------------------------------------------------------------------|-----------------------------------------|\n",
    "| **ASCII/Unicode**       | Maps characters to numbers for text storage                                 | Storing plain text                      |\n",
    "| **Run-Length Encoding** | Replaces sequences of the same data with a single value and count           | Compressing black-and-white images      |\n",
    "| **Huffman Coding**      | Variable-length codes based on symbol frequency (lossless compression)       | File compression (ZIP, PNG)             |\n",
    "| **Delta Encoding**      | Stores the difference between sequential values instead of raw values       | Time-series data (e.g., stock prices)   |\n",
    "| **Base64 Encoding**     | Converts binary data to text format (not efficient but ensures compatibility) | Email attachments, web data             |\n",
    "| **Arithmetic Encoding** | Encodes an entire message into a single fractional number                   | Advanced data compression systems       |\n",
    "\n",
    "---\n",
    "\n",
    "## 📊 Example: Run-Length Encoding (RLE)\n",
    "\n",
    "**Original:**  \n",
    "`AAAABBBCCDAA`\n",
    "\n",
    "**RLE Encoded:**  \n",
    "`4A3B2C1D2A`\n",
    "\n",
    "---\n",
    "\n",
    "## 📉 Efficiency Consideration\n",
    "The **efficiency** of an encoding depends on:\n",
    "- **Redundancy** in data (more repetition = better compression)\n",
    "- **Data type** (text vs image vs audio)\n",
    "- **Frequency** of symbols\n",
    "- **Trade-offs** (e.g., compression vs speed, lossless vs lossy)\n",
    "\n",
    "---\n",
    "\n",
    "## ✅ Learning Checkpoints:\n",
    "- ✅ Explain what data encoding is and why it is used.\n",
    "- ✅ List and describe common encoding techniques.\n",
    "- ✅ Analyze when to use a specific encoding method based on data type and use case.\n",
    "- ✅ Evaluate the efficiency of different encodings with examples."
   ]
  },
  {
   "cell_type": "markdown",
   "id": "1ff6bb66",
   "metadata": {},
   "source": []
  }
 ],
 "metadata": {
  "language_info": {
   "name": "python"
  }
 },
 "nbformat": 4,
 "nbformat_minor": 5
}
