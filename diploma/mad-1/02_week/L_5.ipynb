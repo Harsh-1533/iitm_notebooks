{
 "cells": [
  {
   "cell_type": "markdown",
   "id": "da380281",
   "metadata": {},
   "source": [
    "# 🎨 Introduction to Styling\n",
    "\n",
    "## 🎯 Learning Outcomes\n",
    "- Understand the **difference between markup and styling**\n",
    "- Learn the role of **CSS (Cascading Style Sheets)** in enhancing the appearance of webpages\n",
    "- Get acquainted with different **ways to apply CSS** to HTML\n",
    "\n",
    "---\n",
    "\n",
    "## 🧾 Markup vs. Styling\n",
    "\n",
    "| **Aspect**        | **Markup (HTML)**                                 | **Styling (CSS)**                                      |\n",
    "|------------------|----------------------------------------------------|--------------------------------------------------------|\n",
    "| Purpose          | Defines **structure and meaning** of content       | Defines **presentation and appearance**               |\n",
    "| Example          | `<p>This is a paragraph</p>`                        | `p { color: blue; font-size: 16px; }`                  |\n",
    "| Affects          | Layout of content, logical organization             | Fonts, colors, borders, spacing, alignment, etc.       |\n",
    "| Language         | HTML                                                | CSS                                                    |\n",
    "\n",
    "---\n",
    "\n",
    "## 💅 What is CSS?\n",
    "\n",
    "- **CSS** stands for **Cascading Style Sheets**.\n",
    "- It is used to **control the layout and style** of HTML elements.\n",
    "- CSS separates **content** (HTML) from **presentation** (CSS).\n",
    "- This helps in **maintainability**, **consistency**, and **flexibility** across web pages.\n",
    "\n",
    "---\n",
    "\n",
    "## 🎨 Ways to Apply CSS\n",
    "\n",
    "| **Method**          | **Description**                                        | **Example**                                                                 |\n",
    "|---------------------|--------------------------------------------------------|------------------------------------------------------------------------------|\n",
    "| Inline CSS          | Applied directly to an HTML tag via `style` attribute  | `<p style=\"color: red;\">Hello</p>`                                          |\n",
    "| Internal CSS        | Defined inside `<style>` tag within HTML `<head>`      | `<style> p { color: red; } </style>`                                        |\n",
    "| External CSS        | Linked via external file using `<link>` tag            | `<link rel=\"stylesheet\" href=\"styles.css\">`                                 |\n",
    "\n",
    "---\n",
    "\n",
    "## 🔧 Basic CSS Syntax\n",
    "\n",
    "```css\n",
    "selector {\n",
    "  property: value;\n",
    "}"
   ]
  },
  {
   "cell_type": "markdown",
   "id": "9110a353",
   "metadata": {},
   "source": [
    "p {\n",
    "  color: blue;\n",
    "  font-size: 16px;\n",
    "}"
   ]
  },
  {
   "cell_type": "markdown",
   "id": "fbd21130",
   "metadata": {},
   "source": [
    "### Example HTML with CSS\n",
    "\n",
    "```html\n",
    "<!DOCTYPE html>\n",
    "<html>\n",
    "<head>\n",
    "  <style>\n",
    "    body {\n",
    "      background-color: #f0f0f0;\n",
    "    }\n",
    "    h1 {\n",
    "      color: navy;\n",
    "      text-align: center;\n",
    "    }\n",
    "    p {\n",
    "      font-family: Arial, sans-serif;\n",
    "      font-size: 18px;\n",
    "    }\n",
    "  </style>\n",
    "</head>\n",
    "<body>\n",
    "  <h1>Welcome to Styling</h1>\n",
    "  <p>This text is styled using CSS!</p>\n",
    "</body>\n",
    "</html>\n"
   ]
  }
 ],
 "metadata": {
  "language_info": {
   "name": "python"
  }
 },
 "nbformat": 4,
 "nbformat_minor": 5
}
