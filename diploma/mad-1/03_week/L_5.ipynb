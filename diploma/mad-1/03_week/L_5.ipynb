{
 "cells": [
  {
   "cell_type": "markdown",
   "id": "c06c39e0",
   "metadata": {},
   "source": [
    "## 🧩 Understanding Wireframes in View Design\n",
    "\n",
    "### 📌 What are Wireframes?\n",
    "Wireframes are **basic visual representations or blueprints** of a webpage or application interface. They focus on **layout, structure, and functionality** rather than style, color, or graphic design.\n",
    "\n",
    "---\n",
    "\n",
    "### 🔧 Purpose of Wireframes\n",
    "- **Define the skeletal framework** of a user interface.\n",
    "- **Outline placement** of content, elements, and navigational components.\n",
    "- **Communicate design intent** with stakeholders, developers, and designers early in the process.\n",
    "\n",
    "---\n",
    "\n",
    "### 🎯 Why Use Wireframes in Designing a View?\n",
    "1. **Clarify Design Structure**: Helps visualize how different components of the UI (like headers, buttons, inputs) will be arranged.\n",
    "2. **Low Cost of Changes**: Since it’s a rough draft, changes can be made quickly without heavy development or graphic effort.\n",
    "3. **Focus on Functionality**: Keeps the attention on usability and user interaction rather than aesthetics.\n",
    "4. **Improve Communication**: Bridges the understanding gap between non-technical stakeholders and developers/designers.\n",
    "\n",
    "---\n",
    "\n",
    "### 🛠️ Types of Wireframes\n",
    "- **Low-Fidelity Wireframes**: Simple sketches or grayscale designs with boxes and lines (used for brainstorming ideas).\n",
    "- **High-Fidelity Wireframes**: More detailed versions that may include accurate spacing, real content, and some interactivity (used for presentations or prototyping).\n",
    "\n",
    "---\n",
    "\n",
    "### 💡 Tools for Creating Wireframes\n",
    "- Paper & Pencil\n",
    "- Balsamiq\n",
    "- Figma\n",
    "- Adobe XD\n",
    "- Sketch\n",
    "\n",
    "---\n",
    "\n",
    "### 🧠 Key Elements Typically Included\n",
    "- Navigation menus\n",
    "- Headers & footers\n",
    "- Buttons\n",
    "- Text placeholders\n",
    "- Image placeholders\n",
    "- Search bars\n",
    "- Layout grids\n",
    "\n",
    "---\n",
    "\n",
    "### ✅ Summary\n",
    "Wireframes are an essential **planning tool** in the UI/UX design process. They help ensure that the **View** component in MVC architecture is well-structured, user-friendly, and aligned with user requirements before moving into full design and development."
   ]
  }
 ],
 "metadata": {
  "language_info": {
   "name": "python"
  }
 },
 "nbformat": 4,
 "nbformat_minor": 5
}
