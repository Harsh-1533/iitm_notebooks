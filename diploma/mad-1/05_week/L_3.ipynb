{
 "cells": [
  {
   "cell_type": "markdown",
   "id": "fab0362a",
   "metadata": {},
   "source": [
    "Thanks for sharing the lecture on CRUD and how it's tied to API and data lifecycle! Based on this content, here's a quick summary of the key concepts you should retain:\n",
    "\n",
    "---\n",
    "\n",
    "### ✅ **CRUD Meaning:**\n",
    "\n",
    "* **C**: **Create** – Add new entries to the data model (e.g., adding a new student).\n",
    "* **R**: **Read** – Retrieve or view data (e.g., list all students or check marks).\n",
    "* **U**: **Update** – Modify existing data (e.g., update address or marks).\n",
    "* **D**: **Delete** – Remove data (e.g., archive or delete a graduated student).\n",
    "\n",
    "---\n",
    "\n",
    "### 🔁 **CRUD Lifecycle Context:**\n",
    "\n",
    "* Originally designed for **database operations**.\n",
    "* Now commonly used as a structure for **web application APIs**.\n",
    "\n",
    "---\n",
    "\n",
    "### 🌐 **CRUD + API in Web Apps:**\n",
    "\n",
    "* **APIs**: Define how clients (like browsers or apps) communicate with the server.\n",
    "* **Web API uses HTTP methods** to map CRUD:\n",
    "\n",
    "  * **POST** → Create\n",
    "  * **GET** → Read\n",
    "  * **PUT/PATCH** → Update\n",
    "  * **DELETE** → Delete\n",
    "\n",
    "---\n",
    "\n",
    "### 🎯 Learning Outcomes:\n",
    "\n",
    "* Understand that CRUD represents **core operations** in managing application data.\n",
    "* APIs expose these operations to clients in a **standardized way** over HTTP.\n",
    "* CRUD is a foundational concept for building RESTful APIs."
   ]
  }
 ],
 "metadata": {
  "language_info": {
   "name": "python"
  }
 },
 "nbformat": 4,
 "nbformat_minor": 5
}
