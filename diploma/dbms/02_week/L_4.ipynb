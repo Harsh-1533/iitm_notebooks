{
 "cells": [
  {
   "cell_type": "markdown",
   "id": "e9e0c5bc",
   "metadata": {},
   "source": [
    "# Introduction to SQL/2\n",
    "\n",
    "### Cartesian Product\n",
    "\n",
    "- Find the Cartesian product instructor X teaches\n",
    "    ```sql\n",
    "    select *\n",
    "    from instructor, teaches\n",
    "    ```\n",
    "    - generates every possible instructor-teaches pair, with all attributes from both relations\n",
    "    - For common attributes (for example, ID), the attributes in the resulting table are renamed using the relation name (for example, instructor.ID)\n",
    "- Cartesian product not very useful directly, but useful combined with where-clause condition (selection operation in relational algebra)\n",
    "\n",
    "### Rename ***AS***  Operation\n",
    "\n",
    "- The SQL allows renaming relations and attributes using the ***as*** clause:\n",
    "    ```sql\n",
    "    old_name as new_name\n",
    "    ```\n",
    "- Find the names of all instructors who have a higher salary than some instructor in 'Comp. Sci'.\n",
    "    ```sql\n",
    "    select distinct T.name\n",
    "    from instructor as T, instructor as S,\n",
    "    where T.salary > S.salary and S.dept_name = 'Comp. Sci'\n",
    "    ```\n",
    "- Keyword ***as*** is optional and may be omitted\n",
    "\n",
    "instructor ***as*** T = instructor T"
   ]
  },
  {
   "cell_type": "markdown",
   "id": "558034a7",
   "metadata": {},
   "source": [
    "## String Operation\n",
    "- SQL includes a string-matching operator for comparisons on character strings. The operator ***like*** uses patterns that are described using two special characters:\n",
    "    - percent (%). The % character matches any substring\n",
    "    - underscore (-). The character matches any character \n",
    "- Find the names of all instructors whose name includes the substring \"dar\"\n",
    "    ```sql\n",
    "    select name\n",
    "    from instructor\n",
    "    where name like '%dar%'\n",
    "- Match the string \"100%\"\n",
    "    ***like*** '100%' ***escape*** '\\'\n",
    "- in that above we use backslash (\\) as the escape character\n",
    "- Patterns are case sensitive\n",
    "- Pattern matching examples:\n",
    "    - 'Intro%' matches any string beginning with \"Intro\"\n",
    "    - '%Comp%' matches any string containing \"Comp\" as a substring\n",
    "    - '' matches any string of exactly three characters\n",
    "    - '%' matches any string of at least three characters\n",
    "- SQL supports a variety of string operations such as\n",
    "    - concatenation (using \"||\")\n",
    "    - converting from upper to lower case (and vice versa)\n",
    "    - finding string length, extracting substrings, etc."
   ]
  },
  {
   "cell_type": "markdown",
   "id": "db33480a",
   "metadata": {},
   "source": [
    "## Ordering the Display of Tuples\n",
    "- List in alphabetic order the names of all instructors\n",
    "    ```sql\n",
    "    select distinct name\n",
    "    from instructor\n",
    "    order by name\n",
    "- We may specify desc for descending order or asc for ascending order, for each attribute; ascending order is the default.\n",
    "    - Example: order by name desc\n",
    "- Can sort on multiple attributes\n",
    "    - Example: order by dept_name, name"
   ]
  },
  {
   "cell_type": "markdown",
   "id": "fb6fff69",
   "metadata": {},
   "source": [
    "## Selecting Number of Tuples in Output\n",
    "- The **Select Top** clause is used to specify the number of records to return\n",
    "- The **Select Top** clause is useful on large tables with thousands of records. Returning a large number of records can impact performance\n",
    "    ```sql\n",
    "    select top 10 distinct name\n",
    "    from instructor\n",
    "- Not all database systems support the SELECT TOP clause.\n",
    "    - SQL Server & MS Access support select top\n",
    "    - MySQL supports the limit clause\n",
    "    - Oracle uses fetch first n rows only and rownum\n",
    "    ```sql\n",
    "    select distinct name\n",
    "    from instructor\n",
    "    order by name\n",
    "    fetch first 10 rows only"
   ]
  },
  {
   "cell_type": "markdown",
   "id": "e8945f2b",
   "metadata": {},
   "source": [
    "## Where Clause Predicates\n",
    "\n",
    "SQL includes a **`BETWEEN`** comparison operator.\n",
    "\n",
    "### Example:\n",
    "Find the names of all instructors with salary between $90,000 and $100,000 (that is, ≥ $90,000 and ≤ $100,000):\n",
    "\n",
    "```sql\n",
    "SELECT name\n",
    "FROM instructor\n",
    "WHERE salary BETWEEN 90000 AND 100000;\n",
    "```\n",
    "\n",
    "### Tuple Comparison\n",
    "- SQL also supports tuple comparison, where multiple columns are compared in a single condition.\n",
    "\n",
    "```sql\n",
    "SELECT name, course_id\n",
    "FROM instructor, teaches\n",
    "WHERE (instructor.ID, dept_name) = (teaches.ID, 'Biology');\n",
    "```"
   ]
  },
  {
   "cell_type": "markdown",
   "id": "f8fab333",
   "metadata": {},
   "source": [
    "## In Clause Operator\n",
    "- The **in** operator allows you to specify multiple values in a **where** clause\n",
    "- The **in** operator is a shorthand for multiple **or** conditions\n",
    "    ```sql\n",
    "    select name\n",
    "    from instructor\n",
    "    where dept_name in ('Comp. Sci.', 'Biology')"
   ]
  },
  {
   "cell_type": "markdown",
   "id": "4772aa8d",
   "metadata": {},
   "source": [
    "## Duplicates\n",
    "- In relations with duplicates, SQL can define how many copies of tuples appear in the result\n",
    "- **Multiset** versions of some of the relational algebra operators given multiset relations r1 and 12:\n",
    "    1. σθ(r1): If there are c₁ copies of tuple t₁ in r₁, and t₁ satisfies selections σθ, then there are c₁ copies of t₁ in ge(r1)\n",
    "    2. Пд(r): For each copy of tuple t₁ in r₁, there is a copy of tuple ПA(t₁) in NA(1) where ΠA(t1) denotes the projection of the single tuple t₁\n",
    "    3. r1 x r2: If there are c₁ copies of tuple t₁ in r₁ and c₂ copies of tuple t2 in 12, there are C1 X C2 copies of the tuple t1.t2 in 1 x 12\n",
    "- Example: Suppose multiset relations r₁(A, B) and r2(C) are as follows: r₁ = {(1,a)(2,a)} r2 = {(2), (3), (3)}\n",
    "- Then Πg(r1) would be {(a), (a)}, while Пg (1) x r₂ would be {(a, 2), (a, 2), (a, 3), (a, 3), (a, 3), (a, 3)}\n",
    "- SQL duplicate semantics:\n",
    "    ```sql\n",
    "    select A1, A2,..., An\n",
    "    from 1, 2,..., m\n",
    "    where P\n",
    "    ```\n",
    "    is equivalent to the multiset version of the expression:\n",
    "        ΠΑ1, Α2,..., Απ (σρ(r1 × 12 ×... xrm))"
   ]
  },
  {
   "cell_type": "markdown",
   "id": "59d6da98",
   "metadata": {},
   "source": []
  }
 ],
 "metadata": {
  "language_info": {
   "name": "python"
  }
 },
 "nbformat": 4,
 "nbformat_minor": 5
}
