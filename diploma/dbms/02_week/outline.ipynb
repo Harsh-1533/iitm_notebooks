{
 "cells": [
  {
   "cell_type": "markdown",
   "id": "db99c75f",
   "metadata": {},
   "source": [
    "- The proliferation of DBMS in wide range of applications provide motivation to study the subject\n",
    "- Know Your Course provided information about prerequisites, outline and text book\n",
    "- The specific need for a DBMS discussed in contrast to a file system based application using a programming language like Python\n",
    "- Basic notions of a DBMS are introduced"
   ]
  }
 ],
 "metadata": {
  "language_info": {
   "name": "python"
  }
 },
 "nbformat": 4,
 "nbformat_minor": 5
}
