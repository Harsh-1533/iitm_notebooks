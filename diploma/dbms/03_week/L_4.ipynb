{
 "cells": [
  {
   "cell_type": "markdown",
   "id": "cc8f3176",
   "metadata": {},
   "source": [
    "# ***Please go to the lecture slides. It is the best for this topic.***"
   ]
  }
 ],
 "metadata": {
  "language_info": {
   "name": "python"
  }
 },
 "nbformat": 4,
 "nbformat_minor": 5
}
