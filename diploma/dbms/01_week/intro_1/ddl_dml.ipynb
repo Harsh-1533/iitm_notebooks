{
 "cells": [
  {
   "cell_type": "markdown",
   "id": "ca37900f",
   "metadata": {},
   "source": [
    "# Data Definition Language (DDL)\n",
    "\n",
    "- Specification notation for defining the database schema\n",
    "\n",
    "- Example:"
   ]
  },
  {
   "cell_type": "markdown",
   "id": "dca08960",
   "metadata": {},
   "source": [
    "```sql\n",
    "    create table instructor (\n",
    "        ID char(5),\n",
    "        name varchar(20),\n",
    "        dept_name varchar(20),\n",
    "        salary numeric(8,2))"
   ]
  },
  {
   "cell_type": "markdown",
   "id": "2b5cfcb1",
   "metadata": {},
   "source": [
    "- DDL compiler generates a set of table templates stored in a data dictionary\n",
    "\n",
    "- Data dictionary contains metadata (that is, data about data)\n",
    "\n",
    "    - Database schema\n",
    "\n",
    "    - Integrity constraints\n",
    "\n",
    "        - Primary key (ID uniquely identifies instructors)\n",
    "\n",
    "    - Authorization\n",
    "\n",
    "        - Who can access what"
   ]
  },
  {
   "cell_type": "markdown",
   "id": "04c0558a",
   "metadata": {},
   "source": [
    "# Data Manipulation Language (DML)\n",
    "\n",
    "- Language for accessing and manipulating the data organized by the appropriate data model\n",
    "\n",
    "    - DML: also known as Query Language\n",
    "\n",
    "- Two classes of languages\n",
    "\n",
    "    - Pure used for proving properties about computational power and for optimization\n",
    "\n",
    "        - Relational Algebra (we focus in this course)\n",
    "\n",
    "        - Tuple relational calculus\n",
    "\n",
    "        - Domain relational calculus\n",
    "\n",
    "    - Commercial - used in commercial systems\n",
    "\n",
    "        - SQL is the most widely used commercial language"
   ]
  },
  {
   "cell_type": "markdown",
   "id": "08528076",
   "metadata": {},
   "source": [
    "# By ChatGPT"
   ]
  },
  {
   "cell_type": "markdown",
   "id": "c8bc26e2",
   "metadata": {},
   "source": [
    "## 🔷 Part 1: DDL – Data Definition Language\n",
    "- 🎯 Purpose:\n",
    "DDL commands are used to define, change, or remove the structure of database objects such as tables, schemas, views, indexes, etc. DDL directly affects the schema of the database.\n",
    "\n",
    "- 🧱 Main DDL Commands:\n",
    "\n",
    "    | Command    | Description                                                            |\n",
    "    | ---------- | ---------------------------------------------------------------------- |\n",
    "    | `CREATE`   | Defines a new object (table, view, database)                           |\n",
    "    | `ALTER`    | Modifies an existing object's structure                                |\n",
    "    | `DROP`     | Deletes an object permanently                                          |\n",
    "    | `TRUNCATE` | Deletes all rows in a table (faster than `DELETE`) but keeps structure |\n",
    "    | `RENAME`   | Renames a table or a column (in some DBMSs)                            |\n",
    "\n",
    "\n",
    "- ⚠️ Characteristics of DDL:\n",
    "\n",
    "    | Feature        | DDL                                       |\n",
    "    | -------------- | ----------------------------------------- |\n",
    "    | Auto-commit    | ✅ Yes (changes are saved immediately)     |\n",
    "    | Reversible     | ❌ No (DROP and TRUNCATE are irreversible) |\n",
    "    | Changes schema | ✅ Yes                                     |\n",
    "    | Accessed by    | Developers, DBAs                          |\n",
    "\n",
    "- 🧠 Real-world Example:\n",
    "Imagine you're building a new employee management system. First, you define the tables (schema) using DDL — that’s like building the skeleton of your database.\n",
    "\n",
    "\n",
    "## 🔶 Part 2: DML – Data Manipulation Language\n",
    "- 🎯 Purpose:\n",
    "DML commands are used to manipulate the data (i.e., rows/records) within the structure defined by DDL. This is where the actual content (instances) of the database is handled.\n",
    "\n",
    "- 🧱 Main DML Commands:\n",
    "\n",
    "    | Command    | Description                                           |\n",
    "    | ---------- | ----------------------------------------------------- |\n",
    "    | `INSERT`   | Adds new records                                      |\n",
    "    | `UPDATE`   | Changes existing records                              |\n",
    "    | `DELETE`   | Removes records                                       |\n",
    "    | `SELECT`\\* | Retrieves records (sometimes called **DQL**, not DML) |\n",
    "\n",
    "- ⚠️ Characteristics of DML:\n",
    "\n",
    "    | Feature      | DML                                        |\n",
    "    | ------------ | ------------------------------------------ |\n",
    "    | Auto-commit  | ❌ No (needs manual commit in some systems) |\n",
    "    | Reversible   | ✅ Yes (if rollback is used)                |\n",
    "    | Changes data | ✅ Yes (not structure)                      |\n",
    "    | Accessed by  | End-users, applications, scripts           |\n",
    "\n",
    "- 🧠 Real-world Example:\n",
    "Once the tables are created (via DDL), HR staff begins entering employee details, modifying salaries, or querying lists — all of this is done using DML.\n",
    "\n",
    "## 📊 DDL vs DML – Comparison Summary\n",
    "| Feature       | DDL                       | DML                                    |\n",
    "| ------------- | ------------------------- | -------------------------------------- |\n",
    "| Full Form     | Data Definition Language  | Data Manipulation Language             |\n",
    "| Affects       | Schema (structure)        | Data (content)                         |\n",
    "| Auto commit   | Yes                       | No (usually)                           |\n",
    "| Used for      | Creating/modifying tables | Inserting, updating, deleting data     |\n",
    "| Examples      | `CREATE`, `ALTER`, `DROP` | `INSERT`, `UPDATE`, `DELETE`, `SELECT` |\n",
    "| Reversibility | Not reversible            | Reversible with transaction            |\n",
    "## 💡 Analogy:\n",
    "| Part            | Analogy                   | SQL Concept |\n",
    "| --------------- | ------------------------- | ----------- |\n",
    "| Blueprint       | Design of a house         | DDL         |\n",
    "| Living in house | Filling it with furniture | DML         |"
   ]
  }
 ],
 "metadata": {
  "kernelspec": {
   "display_name": "Python 3",
   "language": "python",
   "name": "python3"
  },
  "language_info": {
   "codemirror_mode": {
    "name": "ipython",
    "version": 3
   },
   "file_extension": ".py",
   "mimetype": "text/x-python",
   "name": "python",
   "nbconvert_exporter": "python",
   "pygments_lexer": "ipython3",
   "version": "3.12.6"
  }
 },
 "nbformat": 4,
 "nbformat_minor": 5
}
