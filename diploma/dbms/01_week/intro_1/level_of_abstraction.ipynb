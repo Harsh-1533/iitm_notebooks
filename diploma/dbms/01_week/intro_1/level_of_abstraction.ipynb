{
 "cells": [
  {
   "cell_type": "markdown",
   "id": "a11cfa69",
   "metadata": {},
   "source": [
    "# 🔍 Levels of Abstraction in DBMS\n",
    "The DBMS (Database Management System) uses three levels of abstraction to separate the way data is stored, how it's viewed by users, and how it's logically structured. This model is known as the Three-Level Architecture, defined by the ANSI/SPARC committee."
   ]
  },
  {
   "cell_type": "markdown",
   "id": "93aeaafb",
   "metadata": {},
   "source": [
    "### 🧱 1. Internal Level (Physical Level)\n",
    "##### What it describes:\n",
    "- The physical storage of the database on hardware—how the data is actually stored in files, indexes, blocks, etc.\n",
    "\n",
    "##### Key Features:\n",
    "\n",
    "- Describes storage devices, file structures, indexes\n",
    "\n",
    "- Data compression, encryption, and storage optimization\n",
    "\n",
    "- Invisible to end-users\n",
    "\n",
    "##### ✅ Example: Data stored in B-trees or hash indexes on disk"
   ]
  },
  {
   "cell_type": "markdown",
   "id": "6f0b5d5c",
   "metadata": {},
   "source": [
    "### 🧩 2. Conceptual Level (Logical Level)\n",
    "##### What it describes:\n",
    "- The entire structure of the database as seen by the database administrator or application developers.\n",
    "\n",
    "##### Key Features:\n",
    "\n",
    "- Describes entities, attributes, relationships\n",
    "\n",
    "- Defines constraints, data types, and integrity rules\n",
    "\n",
    "- Independent of physical storage\n",
    "\n",
    "##### ✅ Example: A table named Customer(id, name, email) and its relationship to Orders"
   ]
  },
  {
   "cell_type": "markdown",
   "id": "2d1c53a1",
   "metadata": {},
   "source": [
    "### 👤 3. External Level (View Level)\n",
    "##### What it describes:\n",
    "- The user-specific view of the database. Different users can have different views based on their needs and permissions.\n",
    "\n",
    "##### Key Features:\n",
    "\n",
    "- Each view may include selected parts of the database\n",
    "\n",
    "- Ensures security and simplicity\n",
    "\n",
    "- Users interact only with the data relevant to them\n",
    "##### ✅ Example: A sales rep might see only Customer(name, phone), not sensitive email or payment data."
   ]
  },
  {
   "cell_type": "markdown",
   "id": "c5a30127",
   "metadata": {},
   "source": [
    "## 🎯 Purpose of These Abstraction Levels\n",
    "Data Independence:\n",
    "\n",
    "- Logical Data Independence: Changes in the conceptual schema don’t affect external views.\n",
    "\n",
    "- Physical Data Independence: Changes in storage structures don’t affect the conceptual schema."
   ]
  },
  {
   "cell_type": "markdown",
   "id": "b51bc7ea",
   "metadata": {},
   "source": [
    "| Level      | Focus Area               | User Type               | Independence Level         |\n",
    "| ---------- | ------------------------ | ----------------------- | -------------------------- |\n",
    "| External   | User views               | End users               | Logical data independence  |\n",
    "| Conceptual | Logical structure/schema | Database designer/admin | Physical data independence |\n",
    "| Internal   | Physical storage         | System programmer/DBMS  | —                          |"
   ]
  }
 ],
 "metadata": {
  "language_info": {
   "name": "python"
  }
 },
 "nbformat": 4,
 "nbformat_minor": 5
}
