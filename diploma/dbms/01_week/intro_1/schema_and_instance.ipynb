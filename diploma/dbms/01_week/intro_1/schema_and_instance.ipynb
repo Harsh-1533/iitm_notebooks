{
 "cells": [
  {
   "cell_type": "markdown",
   "id": "72076ee9",
   "metadata": {},
   "source": [
    "# Schema\n",
    "- Similar to type of a variable and value of the variable at run-time in programming languages\n",
    "- In Schema we have 2 schemas\n",
    "- 1. Logical Schema\n",
    "- 2. Physical Schema\n",
    "    - 1. Logical Schema :- The overall logical structure of the database\n",
    "        - Analogous to type information of a variable in a program\n",
    "        - Example: The database consists of information about a set of customers and accounts in a bank and the relationship between them\n",
    "        - Customer Schema |Name|Customer ID|Account#|Aadhaar ID|Mobile#|\n",
    "        - Account Schema |Account#|Account Type|Interest Rate|Min. Bal.|Balance|\n",
    "    - 2. Physical Schema :- The overall physical structure of the database"
   ]
  },
  {
   "cell_type": "markdown",
   "id": "4f265ae3",
   "metadata": {},
   "source": [
    "# Instance\n",
    "- The actual content of the database at a particular point in time\n",
    "- Analogous to the value of variable\n",
    "- Customer Instance\n",
    "\n",
    "| **Name**    | **Customer ID** | **Account #** | **Aadhaar ID** | **Mobile #** |\n",
    "| ----------- | --------------- | ------------- | -------------- | ------------ |\n",
    "| Pavan Laha  | 6728            | 917322        | 182719289372   | 9830100291   |\n",
    "| Lata Kala   | 8912            | 827183        | 918291204829   | 7189203928   |\n",
    "| Nand Prabhu | 6617            | 372912        | 127837291021   | 8892021892   |\n",
    "- Account Instance\n",
    "\n",
    "| **Account #** | **Account Type** | **Interest Rate** | **Min. Bal.** | **Balance** |\n",
    "| ------------- | ---------------- | ----------------- | ------------- | ----------- |\n",
    "| 917322        | Savings          | 4.0%              | 5000          | 7812        |\n",
    "| 372912        | Current          | 0.0%              | 0             | 291820      |\n",
    "| 827183        | Term Deposit     | 6.75%             | 10000         | 100000      |\n",
    "\n",
    "### 🔹 Instance = Data\n",
    "- An instance in DBMS refers to the actual data stored in the database at a particular point in time.\n"
   ]
  },
  {
   "cell_type": "markdown",
   "id": "834912dc",
   "metadata": {},
   "source": [
    "| Concept      | Meaning                               | Example                                  |\n",
    "| ------------ | ------------------------------------- | ---------------------------------------- |\n",
    "| **Schema**   | Structure or design of the database   | Table name, column names, data types     |\n",
    "| **Instance** | Actual content (data) in the database | Rows of values like names, IDs, balances |\n",
    "\n",
    "🧠 Think of it this way:\n",
    "\n",
    "Schema = variable definition → int age;\n",
    "\n",
    "Instance = variable value → age = 25;"
   ]
  }
 ],
 "metadata": {
  "kernelspec": {
   "display_name": "Python 3",
   "language": "python",
   "name": "python3"
  },
  "language_info": {
   "codemirror_mode": {
    "name": "ipython",
    "version": 3
   },
   "file_extension": ".py",
   "mimetype": "text/x-python",
   "name": "python",
   "nbconvert_exporter": "python",
   "pygments_lexer": "ipython3",
   "version": "3.12.6"
  }
 },
 "nbformat": 4,
 "nbformat_minor": 5
}
