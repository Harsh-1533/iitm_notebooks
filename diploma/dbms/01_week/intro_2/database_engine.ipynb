{
 "cells": [
  {
   "cell_type": "markdown",
   "id": "e1cfdbe7",
   "metadata": {},
   "source": [
    "# Database Engine\n",
    "\n",
    "- Storage Manager\n",
    "- Query processing\n",
    "- Transaction manager"
   ]
  },
  {
   "cell_type": "markdown",
   "id": "a2d6f08d",
   "metadata": {},
   "source": [
    "## - Storage Manager\n",
    "- **Storage manager** is a program module that provides the interface between the low-level data stored in the database and the application programs and queries submitted to the system\n",
    "\n",
    "- The storage manager is responsible to the following tasks:\n",
    "\n",
    "    - Interaction with the OS file manager\n",
    "\n",
    "    - Efficient storing, retrieving and updating of data\n",
    "\n",
    "- Issues:\n",
    "\n",
    "    - Storage access\n",
    "\n",
    "    - File organization\n",
    "\n",
    "    - Indexing and hashing"
   ]
  },
  {
   "cell_type": "markdown",
   "id": "bc504332",
   "metadata": {},
   "source": [
    "## - Query Processing\n",
    "\n",
    "- a) Parsing and translation\n",
    "- b) Optimization\n",
    "- c) Evaluation\n",
    "\n",
    "![intro_2](image.png)\n"
   ]
  },
  {
   "cell_type": "markdown",
   "id": "bd43c600",
   "metadata": {},
   "source": [
    "## - Transaction Management\n",
    "\n",
    "- What if the system fails?\n",
    "\n",
    "- What if more than one user is concurrently updating the same data?\n",
    "\n",
    "- A **transaction** is a collection of operations that performs a single logical function in a database application\n",
    "\n",
    "- **Transaction-management component** ensures that the database remains in a consistent (correct) state despite system failures (e.g., power failures and operating system crashes) and transaction failures.\n",
    "\n",
    "- **Concurrency-control manager** controls the interaction among the concurrent transactions, to ensure the consistency of the database."
   ]
  },
  {
   "cell_type": "markdown",
   "id": "24b44f67",
   "metadata": {},
   "source": []
  }
 ],
 "metadata": {
  "language_info": {
   "name": "python"
  }
 },
 "nbformat": 4,
 "nbformat_minor": 5
}
